{
 "cells": [
  {
   "cell_type": "code",
   "execution_count": 21,
   "id": "b144ad1e",
   "metadata": {},
   "outputs": [
    {
     "data": {
      "text/html": [
       "<pre style=\"white-space:pre;overflow-x:auto;line-height:normal;font-family:Menlo,'DejaVu Sans Mono',consolas,'Courier New',monospace\"><span style=\"color: #7fbfbf; text-decoration-color: #7fbfbf\">[09/20/23 14:29:57] </span><span style=\"color: #000080; text-decoration-color: #000080\">INFO    </span> Resolved project path as: <span style=\"color: #800080; text-decoration-color: #800080\">/home/jamontanac/Documents/</span><span style=\"color: #ff00ff; text-decoration-color: #ff00ff\">Procesamiento</span>     <a href=\"file:///home/jamontanac/miniconda3/envs/kedro-environment/lib/python3.10/site-packages/kedro/ipython/__init__.py\" target=\"_blank\"><span style=\"color: #7f7f7f; text-decoration-color: #7f7f7f\">__init__.py</span></a><span style=\"color: #7f7f7f; text-decoration-color: #7f7f7f\">:</span><a href=\"file:///home/jamontanac/miniconda3/envs/kedro-environment/lib/python3.10/site-packages/kedro/ipython/__init__.py#139\" target=\"_blank\"><span style=\"color: #7f7f7f; text-decoration-color: #7f7f7f\">139</span></a>\n",
       "<span style=\"color: #7fbfbf; text-decoration-color: #7fbfbf\">                    </span>         Imagenes y video/Fighting-Illutions.                                   <span style=\"color: #7f7f7f; text-decoration-color: #7f7f7f\">               </span>\n",
       "<span style=\"color: #7fbfbf; text-decoration-color: #7fbfbf\">                    </span>         To set a different path, run <span style=\"color: #008000; text-decoration-color: #008000\">'%reload_kedro &lt;project_root&gt;'</span>            <span style=\"color: #7f7f7f; text-decoration-color: #7f7f7f\">               </span>\n",
       "</pre>\n"
      ],
      "text/plain": [
       "\u001b[2;36m[09/20/23 14:29:57]\u001b[0m\u001b[2;36m \u001b[0m\u001b[34mINFO    \u001b[0m Resolved project path as: \u001b[35m/home/jamontanac/Documents/\u001b[0m\u001b[95mProcesamiento\u001b[0m     \u001b]8;id=749322;file:///home/jamontanac/miniconda3/envs/kedro-environment/lib/python3.10/site-packages/kedro/ipython/__init__.py\u001b\\\u001b[2m__init__.py\u001b[0m\u001b]8;;\u001b\\\u001b[2m:\u001b[0m\u001b]8;id=530541;file:///home/jamontanac/miniconda3/envs/kedro-environment/lib/python3.10/site-packages/kedro/ipython/__init__.py#139\u001b\\\u001b[2m139\u001b[0m\u001b]8;;\u001b\\\n",
       "\u001b[2;36m                    \u001b[0m         Imagenes y video/Fighting-Illutions.                                   \u001b[2m               \u001b[0m\n",
       "\u001b[2;36m                    \u001b[0m         To set a different path, run \u001b[32m'%reload_kedro \u001b[0m\u001b[32m<\u001b[0m\u001b[32mproject_root\u001b[0m\u001b[32m>\u001b[0m\u001b[32m'\u001b[0m            \u001b[2m               \u001b[0m\n"
      ]
     },
     "metadata": {},
     "output_type": "display_data"
    },
    {
     "data": {
      "text/html": [
       "<pre style=\"white-space:pre;overflow-x:auto;line-height:normal;font-family:Menlo,'DejaVu Sans Mono',consolas,'Courier New',monospace\"><span style=\"color: #7fbfbf; text-decoration-color: #7fbfbf\">[09/20/23 14:29:57] </span><span style=\"color: #800000; text-decoration-color: #800000\">WARNING </span> <span style=\"color: #800080; text-decoration-color: #800080\">/home/jamontanac/miniconda3/envs/kedro-environment/lib/python3.10/site</span> <a href=\"file:///home/jamontanac/miniconda3/envs/kedro-environment/lib/python3.10/warnings.py\" target=\"_blank\"><span style=\"color: #7f7f7f; text-decoration-color: #7f7f7f\">warnings.py</span></a><span style=\"color: #7f7f7f; text-decoration-color: #7f7f7f\">:</span><a href=\"file:///home/jamontanac/miniconda3/envs/kedro-environment/lib/python3.10/warnings.py#109\" target=\"_blank\"><span style=\"color: #7f7f7f; text-decoration-color: #7f7f7f\">109</span></a>\n",
       "<span style=\"color: #7fbfbf; text-decoration-color: #7fbfbf\">                    </span>         <span style=\"color: #800080; text-decoration-color: #800080\">-packages/kedro/framework/project/</span><span style=\"color: #ff00ff; text-decoration-color: #ff00ff\">__init__.py</span>:<span style=\"color: #008080; text-decoration-color: #008080; font-weight: bold\">359</span>: UserWarning: An     <span style=\"color: #7f7f7f; text-decoration-color: #7f7f7f\">               </span>\n",
       "<span style=\"color: #7fbfbf; text-decoration-color: #7fbfbf\">                    </span>         error occurred while importing the                                     <span style=\"color: #7f7f7f; text-decoration-color: #7f7f7f\">               </span>\n",
       "<span style=\"color: #7fbfbf; text-decoration-color: #7fbfbf\">                    </span>         <span style=\"color: #008000; text-decoration-color: #008000\">'Fighting-Illutions.pipelines.generate_adversarial_examples'</span> module.   <span style=\"color: #7f7f7f; text-decoration-color: #7f7f7f\">               </span>\n",
       "<span style=\"color: #7fbfbf; text-decoration-color: #7fbfbf\">                    </span>         Nothing defined therein will be returned by <span style=\"color: #008000; text-decoration-color: #008000\">'find_pipelines'</span>.          <span style=\"color: #7f7f7f; text-decoration-color: #7f7f7f\">               </span>\n",
       "<span style=\"color: #7fbfbf; text-decoration-color: #7fbfbf\">                    </span>                                                                                <span style=\"color: #7f7f7f; text-decoration-color: #7f7f7f\">               </span>\n",
       "<span style=\"color: #7fbfbf; text-decoration-color: #7fbfbf\">                    </span>         Traceback <span style=\"font-weight: bold\">(</span>most recent call last<span style=\"font-weight: bold\">)</span>:                                     <span style=\"color: #7f7f7f; text-decoration-color: #7f7f7f\">               </span>\n",
       "<span style=\"color: #7fbfbf; text-decoration-color: #7fbfbf\">                    </span>           File                                                                 <span style=\"color: #7f7f7f; text-decoration-color: #7f7f7f\">               </span>\n",
       "<span style=\"color: #7fbfbf; text-decoration-color: #7fbfbf\">                    </span>         <span style=\"color: #008000; text-decoration-color: #008000\">\"/home/jamontanac/miniconda3/envs/kedro-environment/lib/python3.10/sit</span> <span style=\"color: #7f7f7f; text-decoration-color: #7f7f7f\">               </span>\n",
       "<span style=\"color: #7fbfbf; text-decoration-color: #7fbfbf\">                    </span>         <span style=\"color: #008000; text-decoration-color: #008000\">e-packages/kedro/framework/project/__init__.py\"</span>, line <span style=\"color: #008080; text-decoration-color: #008080; font-weight: bold\">357</span>, in          <span style=\"color: #7f7f7f; text-decoration-color: #7f7f7f\">               </span>\n",
       "<span style=\"color: #7fbfbf; text-decoration-color: #7fbfbf\">                    </span>         find_pipelines                                                         <span style=\"color: #7f7f7f; text-decoration-color: #7f7f7f\">               </span>\n",
       "<span style=\"color: #7fbfbf; text-decoration-color: #7fbfbf\">                    </span>             pipeline_module = <span style=\"color: #800080; text-decoration-color: #800080; font-weight: bold\">importlib.import_module</span><span style=\"font-weight: bold\">(</span>pipeline_module_name<span style=\"font-weight: bold\">)</span>    <span style=\"color: #7f7f7f; text-decoration-color: #7f7f7f\">               </span>\n",
       "<span style=\"color: #7fbfbf; text-decoration-color: #7fbfbf\">                    </span>           File                                                                 <span style=\"color: #7f7f7f; text-decoration-color: #7f7f7f\">               </span>\n",
       "<span style=\"color: #7fbfbf; text-decoration-color: #7fbfbf\">                    </span>         <span style=\"color: #008000; text-decoration-color: #008000\">\"/home/jamontanac/miniconda3/envs/kedro-environment/lib/python3.10/imp</span> <span style=\"color: #7f7f7f; text-decoration-color: #7f7f7f\">               </span>\n",
       "<span style=\"color: #7fbfbf; text-decoration-color: #7fbfbf\">                    </span>         <span style=\"color: #008000; text-decoration-color: #008000\">ortlib/__init__.py\"</span>, line <span style=\"color: #008080; text-decoration-color: #008080; font-weight: bold\">126</span>, in import_module                        <span style=\"color: #7f7f7f; text-decoration-color: #7f7f7f\">               </span>\n",
       "<span style=\"color: #7fbfbf; text-decoration-color: #7fbfbf\">                    </span>             return <span style=\"color: #800080; text-decoration-color: #800080; font-weight: bold\">_bootstrap._gcd_import</span><span style=\"font-weight: bold\">(</span>name<span style=\"font-weight: bold\">[</span>level:<span style=\"font-weight: bold\">]</span>, package, level<span style=\"font-weight: bold\">)</span>        <span style=\"color: #7f7f7f; text-decoration-color: #7f7f7f\">               </span>\n",
       "<span style=\"color: #7fbfbf; text-decoration-color: #7fbfbf\">                    </span>           File <span style=\"color: #008000; text-decoration-color: #008000\">\"&lt;frozen importlib._bootstrap&gt;\"</span><span style=\"color: #000000; text-decoration-color: #000000\">, line </span><span style=\"color: #008080; text-decoration-color: #008080; font-weight: bold\">1050</span><span style=\"color: #000000; text-decoration-color: #000000\">, in _gcd_import</span>      <span style=\"color: #7f7f7f; text-decoration-color: #7f7f7f\">               </span>\n",
       "<span style=\"color: #7fbfbf; text-decoration-color: #7fbfbf\">                    </span>         <span style=\"color: #000000; text-decoration-color: #000000\">  File </span><span style=\"color: #008000; text-decoration-color: #008000\">\"&lt;frozen importlib._bootstrap&gt;\"</span><span style=\"color: #000000; text-decoration-color: #000000\">, line </span><span style=\"color: #008080; text-decoration-color: #008080; font-weight: bold\">1027</span><span style=\"color: #000000; text-decoration-color: #000000\">, in _find_and_load</span>   <span style=\"color: #7f7f7f; text-decoration-color: #7f7f7f\">               </span>\n",
       "<span style=\"color: #7fbfbf; text-decoration-color: #7fbfbf\">                    </span>         <span style=\"color: #000000; text-decoration-color: #000000\">  File </span><span style=\"color: #008000; text-decoration-color: #008000\">\"&lt;frozen importlib._bootstrap&gt;\"</span><span style=\"color: #000000; text-decoration-color: #000000\">, line </span><span style=\"color: #008080; text-decoration-color: #008080; font-weight: bold\">1006</span><span style=\"color: #000000; text-decoration-color: #000000\">, in </span>                 <span style=\"color: #7f7f7f; text-decoration-color: #7f7f7f\">               </span>\n",
       "<span style=\"color: #7fbfbf; text-decoration-color: #7fbfbf\">                    </span>         <span style=\"color: #000000; text-decoration-color: #000000\">_find_and_load_unlocked</span>                                                <span style=\"color: #7f7f7f; text-decoration-color: #7f7f7f\">               </span>\n",
       "<span style=\"color: #7fbfbf; text-decoration-color: #7fbfbf\">                    </span>         <span style=\"color: #000000; text-decoration-color: #000000\">  File </span><span style=\"color: #008000; text-decoration-color: #008000\">\"&lt;frozen importlib._bootstrap&gt;\"</span><span style=\"color: #000000; text-decoration-color: #000000\">, line </span><span style=\"color: #008080; text-decoration-color: #008080; font-weight: bold\">688</span><span style=\"color: #000000; text-decoration-color: #000000\">, in _load_unlocked</span>    <span style=\"color: #7f7f7f; text-decoration-color: #7f7f7f\">               </span>\n",
       "<span style=\"color: #7fbfbf; text-decoration-color: #7fbfbf\">                    </span>         <span style=\"color: #000000; text-decoration-color: #000000\">  File </span><span style=\"color: #008000; text-decoration-color: #008000\">\"&lt;frozen importlib._bootstrap_external&gt;\"</span><span style=\"color: #000000; text-decoration-color: #000000\">, line </span><span style=\"color: #008080; text-decoration-color: #008080; font-weight: bold\">883</span><span style=\"color: #000000; text-decoration-color: #000000\">, in </span>         <span style=\"color: #7f7f7f; text-decoration-color: #7f7f7f\">               </span>\n",
       "<span style=\"color: #7fbfbf; text-decoration-color: #7fbfbf\">                    </span>         <span style=\"color: #000000; text-decoration-color: #000000\">exec_module</span>                                                            <span style=\"color: #7f7f7f; text-decoration-color: #7f7f7f\">               </span>\n",
       "<span style=\"color: #7fbfbf; text-decoration-color: #7fbfbf\">                    </span>         <span style=\"color: #000000; text-decoration-color: #000000\">  File </span><span style=\"color: #008000; text-decoration-color: #008000\">\"&lt;frozen importlib._bootstrap&gt;\"</span><span style=\"color: #000000; text-decoration-color: #000000\">, line </span><span style=\"color: #008080; text-decoration-color: #008080; font-weight: bold\">241</span><span style=\"color: #000000; text-decoration-color: #000000\">, in </span>                  <span style=\"color: #7f7f7f; text-decoration-color: #7f7f7f\">               </span>\n",
       "<span style=\"color: #7fbfbf; text-decoration-color: #7fbfbf\">                    </span>         <span style=\"color: #000000; text-decoration-color: #000000\">_call_with_frames_removed</span>                                              <span style=\"color: #7f7f7f; text-decoration-color: #7f7f7f\">               </span>\n",
       "<span style=\"color: #7fbfbf; text-decoration-color: #7fbfbf\">                    </span>         <span style=\"color: #000000; text-decoration-color: #000000\">  File </span><span style=\"color: #008000; text-decoration-color: #008000\">\"/home/jamontanac/Documents/Procesamiento Imagenes y </span>           <span style=\"color: #7f7f7f; text-decoration-color: #7f7f7f\">               </span>\n",
       "<span style=\"color: #7fbfbf; text-decoration-color: #7fbfbf\">                    </span>         <span style=\"color: #008000; text-decoration-color: #008000\">video/Fighting-Illutions/src/Fighting-Illutions/pipelines/generate_adv</span> <span style=\"color: #7f7f7f; text-decoration-color: #7f7f7f\">               </span>\n",
       "<span style=\"color: #7fbfbf; text-decoration-color: #7fbfbf\">                    </span>         <span style=\"color: #008000; text-decoration-color: #008000\">ersarial_examples/__init__.py\"</span><span style=\"color: #000000; text-decoration-color: #000000\">, line </span><span style=\"color: #008080; text-decoration-color: #008080; font-weight: bold\">6</span><span style=\"color: #000000; text-decoration-color: #000000\">, in &lt;module&gt;</span>                    <span style=\"color: #7f7f7f; text-decoration-color: #7f7f7f\">               </span>\n",
       "<span style=\"color: #7fbfbf; text-decoration-color: #7fbfbf\">                    </span>         <span style=\"color: #000000; text-decoration-color: #000000\">    from .pipeline import create_pipeline</span>                              <span style=\"color: #7f7f7f; text-decoration-color: #7f7f7f\">               </span>\n",
       "<span style=\"color: #7fbfbf; text-decoration-color: #7fbfbf\">                    </span>         <span style=\"color: #000000; text-decoration-color: #000000\">  File </span><span style=\"color: #008000; text-decoration-color: #008000\">\"/home/jamontanac/Documents/Procesamiento Imagenes y </span>           <span style=\"color: #7f7f7f; text-decoration-color: #7f7f7f\">               </span>\n",
       "<span style=\"color: #7fbfbf; text-decoration-color: #7fbfbf\">                    </span>         <span style=\"color: #008000; text-decoration-color: #008000\">video/Fighting-Illutions/src/Fighting-Illutions/pipelines/generate_adv</span> <span style=\"color: #7f7f7f; text-decoration-color: #7f7f7f\">               </span>\n",
       "<span style=\"color: #7fbfbf; text-decoration-color: #7fbfbf\">                    </span>         <span style=\"color: #008000; text-decoration-color: #008000\">ersarial_examples/pipeline.py\"</span><span style=\"color: #000000; text-decoration-color: #000000\">, line </span><span style=\"color: #008080; text-decoration-color: #008080; font-weight: bold\">17</span><span style=\"color: #000000; text-decoration-color: #000000\">, in &lt;module</span><span style=\"font-weight: bold\">&gt;</span>                   <span style=\"color: #7f7f7f; text-decoration-color: #7f7f7f\">               </span>\n",
       "<span style=\"color: #7fbfbf; text-decoration-color: #7fbfbf\">                    </span>             parameters = conf_loader<span style=\"font-weight: bold\">[</span><span style=\"color: #008000; text-decoration-color: #008000\">\"parameters\"</span><span style=\"font-weight: bold\">]</span>                             <span style=\"color: #7f7f7f; text-decoration-color: #7f7f7f\">               </span>\n",
       "<span style=\"color: #7fbfbf; text-decoration-color: #7fbfbf\">                    </span>           File                                                                 <span style=\"color: #7f7f7f; text-decoration-color: #7f7f7f\">               </span>\n",
       "<span style=\"color: #7fbfbf; text-decoration-color: #7fbfbf\">                    </span>         <span style=\"color: #008000; text-decoration-color: #008000\">\"/home/jamontanac/miniconda3/envs/kedro-environment/lib/python3.10/sit</span> <span style=\"color: #7f7f7f; text-decoration-color: #7f7f7f\">               </span>\n",
       "<span style=\"color: #7fbfbf; text-decoration-color: #7fbfbf\">                    </span>         <span style=\"color: #008000; text-decoration-color: #008000\">e-packages/kedro/config/config.py\"</span>, line <span style=\"color: #008080; text-decoration-color: #008080; font-weight: bold\">117</span>, in __getitem__           <span style=\"color: #7f7f7f; text-decoration-color: #7f7f7f\">               </span>\n",
       "<span style=\"color: #7fbfbf; text-decoration-color: #7fbfbf\">                    </span>             return <span style=\"color: #800080; text-decoration-color: #800080; font-weight: bold\">self.get</span><span style=\"font-weight: bold\">(</span>*self.config_patterns<span style=\"font-weight: bold\">[</span>key<span style=\"font-weight: bold\">])</span>                        <span style=\"color: #7f7f7f; text-decoration-color: #7f7f7f\">               </span>\n",
       "<span style=\"color: #7fbfbf; text-decoration-color: #7fbfbf\">                    </span>           File                                                                 <span style=\"color: #7f7f7f; text-decoration-color: #7f7f7f\">               </span>\n",
       "<span style=\"color: #7fbfbf; text-decoration-color: #7fbfbf\">                    </span>         <span style=\"color: #008000; text-decoration-color: #008000\">\"/home/jamontanac/miniconda3/envs/kedro-environment/lib/python3.10/sit</span> <span style=\"color: #7f7f7f; text-decoration-color: #7f7f7f\">               </span>\n",
       "<span style=\"color: #7fbfbf; text-decoration-color: #7fbfbf\">                    </span>         <span style=\"color: #008000; text-decoration-color: #008000\">e-packages/kedro/config/config.py\"</span>, line <span style=\"color: #008080; text-decoration-color: #008080; font-weight: bold\">131</span>, in get                   <span style=\"color: #7f7f7f; text-decoration-color: #7f7f7f\">               </span>\n",
       "<span style=\"color: #7fbfbf; text-decoration-color: #7fbfbf\">                    </span>             return <span style=\"color: #800080; text-decoration-color: #800080; font-weight: bold\">_get_config_from_patterns</span><span style=\"font-weight: bold\">(</span>                                  <span style=\"color: #7f7f7f; text-decoration-color: #7f7f7f\">               </span>\n",
       "<span style=\"color: #7fbfbf; text-decoration-color: #7fbfbf\">                    </span>           File                                                                 <span style=\"color: #7f7f7f; text-decoration-color: #7f7f7f\">               </span>\n",
       "<span style=\"color: #7fbfbf; text-decoration-color: #7fbfbf\">                    </span>         <span style=\"color: #008000; text-decoration-color: #008000\">\"/home/jamontanac/miniconda3/envs/kedro-environment/lib/python3.10/sit</span> <span style=\"color: #7f7f7f; text-decoration-color: #7f7f7f\">               </span>\n",
       "<span style=\"color: #7fbfbf; text-decoration-color: #7fbfbf\">                    </span>         <span style=\"color: #008000; text-decoration-color: #008000\">e-packages/kedro/config/common.py\"</span>, line <span style=\"color: #008080; text-decoration-color: #008080; font-weight: bold\">73</span>, in                        <span style=\"color: #7f7f7f; text-decoration-color: #7f7f7f\">               </span>\n",
       "<span style=\"color: #7fbfbf; text-decoration-color: #7fbfbf\">                    </span>         _get_config_from_patterns                                              <span style=\"color: #7f7f7f; text-decoration-color: #7f7f7f\">               </span>\n",
       "<span style=\"color: #7fbfbf; text-decoration-color: #7fbfbf\">                    </span>             raise <span style=\"color: #800080; text-decoration-color: #800080; font-weight: bold\">ValueError</span><span style=\"font-weight: bold\">(</span>                                                  <span style=\"color: #7f7f7f; text-decoration-color: #7f7f7f\">               </span>\n",
       "<span style=\"color: #7fbfbf; text-decoration-color: #7fbfbf\">                    </span>         ValueError: Given configuration path either does not exist or is not a <span style=\"color: #7f7f7f; text-decoration-color: #7f7f7f\">               </span>\n",
       "<span style=\"color: #7fbfbf; text-decoration-color: #7fbfbf\">                    </span>         valid directory: conf/base                                             <span style=\"color: #7f7f7f; text-decoration-color: #7f7f7f\">               </span>\n",
       "<span style=\"color: #7fbfbf; text-decoration-color: #7fbfbf\">                    </span>                                                                                <span style=\"color: #7f7f7f; text-decoration-color: #7f7f7f\">               </span>\n",
       "<span style=\"color: #7fbfbf; text-decoration-color: #7fbfbf\">                    </span>           <span style=\"color: #800080; text-decoration-color: #800080; font-weight: bold\">warnings.warn</span><span style=\"font-weight: bold\">(</span>                                                       <span style=\"color: #7f7f7f; text-decoration-color: #7f7f7f\">               </span>\n",
       "<span style=\"color: #7fbfbf; text-decoration-color: #7fbfbf\">                    </span>                                                                                <span style=\"color: #7f7f7f; text-decoration-color: #7f7f7f\">               </span>\n",
       "</pre>\n"
      ],
      "text/plain": [
       "\u001b[2;36m[09/20/23 14:29:57]\u001b[0m\u001b[2;36m \u001b[0m\u001b[31mWARNING \u001b[0m \u001b[35m/home/jamontanac/miniconda3/envs/kedro-environment/lib/python3.10/site\u001b[0m \u001b]8;id=949467;file:///home/jamontanac/miniconda3/envs/kedro-environment/lib/python3.10/warnings.py\u001b\\\u001b[2mwarnings.py\u001b[0m\u001b]8;;\u001b\\\u001b[2m:\u001b[0m\u001b]8;id=293624;file:///home/jamontanac/miniconda3/envs/kedro-environment/lib/python3.10/warnings.py#109\u001b\\\u001b[2m109\u001b[0m\u001b]8;;\u001b\\\n",
       "\u001b[2;36m                    \u001b[0m         \u001b[35m-packages/kedro/framework/project/\u001b[0m\u001b[95m__init__.py\u001b[0m:\u001b[1;36m359\u001b[0m: UserWarning: An     \u001b[2m               \u001b[0m\n",
       "\u001b[2;36m                    \u001b[0m         error occurred while importing the                                     \u001b[2m               \u001b[0m\n",
       "\u001b[2;36m                    \u001b[0m         \u001b[32m'Fighting-Illutions.pipelines.generate_adversarial_examples'\u001b[0m module.   \u001b[2m               \u001b[0m\n",
       "\u001b[2;36m                    \u001b[0m         Nothing defined therein will be returned by \u001b[32m'find_pipelines'\u001b[0m.          \u001b[2m               \u001b[0m\n",
       "\u001b[2;36m                    \u001b[0m                                                                                \u001b[2m               \u001b[0m\n",
       "\u001b[2;36m                    \u001b[0m         Traceback \u001b[1m(\u001b[0mmost recent call last\u001b[1m)\u001b[0m:                                     \u001b[2m               \u001b[0m\n",
       "\u001b[2;36m                    \u001b[0m           File                                                                 \u001b[2m               \u001b[0m\n",
       "\u001b[2;36m                    \u001b[0m         \u001b[32m\"/home/jamontanac/miniconda3/envs/kedro-environment/lib/python3.10/sit\u001b[0m \u001b[2m               \u001b[0m\n",
       "\u001b[2;36m                    \u001b[0m         \u001b[32me-packages/kedro/framework/project/__init__.py\"\u001b[0m, line \u001b[1;36m357\u001b[0m, in          \u001b[2m               \u001b[0m\n",
       "\u001b[2;36m                    \u001b[0m         find_pipelines                                                         \u001b[2m               \u001b[0m\n",
       "\u001b[2;36m                    \u001b[0m             pipeline_module = \u001b[1;35mimportlib.import_module\u001b[0m\u001b[1m(\u001b[0mpipeline_module_name\u001b[1m)\u001b[0m    \u001b[2m               \u001b[0m\n",
       "\u001b[2;36m                    \u001b[0m           File                                                                 \u001b[2m               \u001b[0m\n",
       "\u001b[2;36m                    \u001b[0m         \u001b[32m\"/home/jamontanac/miniconda3/envs/kedro-environment/lib/python3.10/imp\u001b[0m \u001b[2m               \u001b[0m\n",
       "\u001b[2;36m                    \u001b[0m         \u001b[32mortlib/__init__.py\"\u001b[0m, line \u001b[1;36m126\u001b[0m, in import_module                        \u001b[2m               \u001b[0m\n",
       "\u001b[2;36m                    \u001b[0m             return \u001b[1;35m_bootstrap._gcd_import\u001b[0m\u001b[1m(\u001b[0mname\u001b[1m[\u001b[0mlevel:\u001b[1m]\u001b[0m, package, level\u001b[1m)\u001b[0m        \u001b[2m               \u001b[0m\n",
       "\u001b[2;36m                    \u001b[0m           File \u001b[32m\"\u001b[0m\u001b[32m<\u001b[0m\u001b[32mfrozen\u001b[0m\u001b[32m importlib._bootstrap>\"\u001b[0m\u001b[39m, line \u001b[0m\u001b[1;36m1050\u001b[0m\u001b[39m, in _gcd_import\u001b[0m      \u001b[2m               \u001b[0m\n",
       "\u001b[2;36m                    \u001b[0m         \u001b[39m  File \u001b[0m\u001b[32m\"<frozen importlib._bootstrap>\"\u001b[0m\u001b[39m, line \u001b[0m\u001b[1;36m1027\u001b[0m\u001b[39m, in _find_and_load\u001b[0m   \u001b[2m               \u001b[0m\n",
       "\u001b[2;36m                    \u001b[0m         \u001b[39m  File \u001b[0m\u001b[32m\"<frozen importlib._bootstrap>\"\u001b[0m\u001b[39m, line \u001b[0m\u001b[1;36m1006\u001b[0m\u001b[39m, in \u001b[0m                 \u001b[2m               \u001b[0m\n",
       "\u001b[2;36m                    \u001b[0m         \u001b[39m_find_and_load_unlocked\u001b[0m                                                \u001b[2m               \u001b[0m\n",
       "\u001b[2;36m                    \u001b[0m         \u001b[39m  File \u001b[0m\u001b[32m\"<frozen importlib._bootstrap>\"\u001b[0m\u001b[39m, line \u001b[0m\u001b[1;36m688\u001b[0m\u001b[39m, in _load_unlocked\u001b[0m    \u001b[2m               \u001b[0m\n",
       "\u001b[2;36m                    \u001b[0m         \u001b[39m  File \u001b[0m\u001b[32m\"<frozen importlib._bootstrap_external>\"\u001b[0m\u001b[39m, line \u001b[0m\u001b[1;36m883\u001b[0m\u001b[39m, in \u001b[0m         \u001b[2m               \u001b[0m\n",
       "\u001b[2;36m                    \u001b[0m         \u001b[39mexec_module\u001b[0m                                                            \u001b[2m               \u001b[0m\n",
       "\u001b[2;36m                    \u001b[0m         \u001b[39m  File \u001b[0m\u001b[32m\"<frozen importlib._bootstrap>\"\u001b[0m\u001b[39m, line \u001b[0m\u001b[1;36m241\u001b[0m\u001b[39m, in \u001b[0m                  \u001b[2m               \u001b[0m\n",
       "\u001b[2;36m                    \u001b[0m         \u001b[39m_call_with_frames_removed\u001b[0m                                              \u001b[2m               \u001b[0m\n",
       "\u001b[2;36m                    \u001b[0m         \u001b[39m  File \u001b[0m\u001b[32m\"/home/jamontanac/Documents/Procesamiento Imagenes y \u001b[0m           \u001b[2m               \u001b[0m\n",
       "\u001b[2;36m                    \u001b[0m         \u001b[32mvideo/Fighting-Illutions/src/Fighting-Illutions/pipelines/generate_adv\u001b[0m \u001b[2m               \u001b[0m\n",
       "\u001b[2;36m                    \u001b[0m         \u001b[32mersarial_examples/__init__.py\"\u001b[0m\u001b[39m, line \u001b[0m\u001b[1;36m6\u001b[0m\u001b[39m, in <module>\u001b[0m                    \u001b[2m               \u001b[0m\n",
       "\u001b[2;36m                    \u001b[0m         \u001b[39m    from .pipeline import create_pipeline\u001b[0m                              \u001b[2m               \u001b[0m\n",
       "\u001b[2;36m                    \u001b[0m         \u001b[39m  File \u001b[0m\u001b[32m\"/home/jamontanac/Documents/Procesamiento Imagenes y \u001b[0m           \u001b[2m               \u001b[0m\n",
       "\u001b[2;36m                    \u001b[0m         \u001b[32mvideo/Fighting-Illutions/src/Fighting-Illutions/pipelines/generate_adv\u001b[0m \u001b[2m               \u001b[0m\n",
       "\u001b[2;36m                    \u001b[0m         \u001b[32mersarial_examples/pipeline.py\"\u001b[0m\u001b[39m, line \u001b[0m\u001b[1;36m17\u001b[0m\u001b[39m, in <module\u001b[0m\u001b[1m>\u001b[0m                   \u001b[2m               \u001b[0m\n",
       "\u001b[2;36m                    \u001b[0m             parameters = conf_loader\u001b[1m[\u001b[0m\u001b[32m\"parameters\"\u001b[0m\u001b[1m]\u001b[0m                             \u001b[2m               \u001b[0m\n",
       "\u001b[2;36m                    \u001b[0m           File                                                                 \u001b[2m               \u001b[0m\n",
       "\u001b[2;36m                    \u001b[0m         \u001b[32m\"/home/jamontanac/miniconda3/envs/kedro-environment/lib/python3.10/sit\u001b[0m \u001b[2m               \u001b[0m\n",
       "\u001b[2;36m                    \u001b[0m         \u001b[32me-packages/kedro/config/config.py\"\u001b[0m, line \u001b[1;36m117\u001b[0m, in __getitem__           \u001b[2m               \u001b[0m\n",
       "\u001b[2;36m                    \u001b[0m             return \u001b[1;35mself.get\u001b[0m\u001b[1m(\u001b[0m*self.config_patterns\u001b[1m[\u001b[0mkey\u001b[1m]\u001b[0m\u001b[1m)\u001b[0m                        \u001b[2m               \u001b[0m\n",
       "\u001b[2;36m                    \u001b[0m           File                                                                 \u001b[2m               \u001b[0m\n",
       "\u001b[2;36m                    \u001b[0m         \u001b[32m\"/home/jamontanac/miniconda3/envs/kedro-environment/lib/python3.10/sit\u001b[0m \u001b[2m               \u001b[0m\n",
       "\u001b[2;36m                    \u001b[0m         \u001b[32me-packages/kedro/config/config.py\"\u001b[0m, line \u001b[1;36m131\u001b[0m, in get                   \u001b[2m               \u001b[0m\n",
       "\u001b[2;36m                    \u001b[0m             return \u001b[1;35m_get_config_from_patterns\u001b[0m\u001b[1m(\u001b[0m                                  \u001b[2m               \u001b[0m\n",
       "\u001b[2;36m                    \u001b[0m           File                                                                 \u001b[2m               \u001b[0m\n",
       "\u001b[2;36m                    \u001b[0m         \u001b[32m\"/home/jamontanac/miniconda3/envs/kedro-environment/lib/python3.10/sit\u001b[0m \u001b[2m               \u001b[0m\n",
       "\u001b[2;36m                    \u001b[0m         \u001b[32me-packages/kedro/config/common.py\"\u001b[0m, line \u001b[1;36m73\u001b[0m, in                        \u001b[2m               \u001b[0m\n",
       "\u001b[2;36m                    \u001b[0m         _get_config_from_patterns                                              \u001b[2m               \u001b[0m\n",
       "\u001b[2;36m                    \u001b[0m             raise \u001b[1;35mValueError\u001b[0m\u001b[1m(\u001b[0m                                                  \u001b[2m               \u001b[0m\n",
       "\u001b[2;36m                    \u001b[0m         ValueError: Given configuration path either does not exist or is not a \u001b[2m               \u001b[0m\n",
       "\u001b[2;36m                    \u001b[0m         valid directory: conf/base                                             \u001b[2m               \u001b[0m\n",
       "\u001b[2;36m                    \u001b[0m                                                                                \u001b[2m               \u001b[0m\n",
       "\u001b[2;36m                    \u001b[0m           \u001b[1;35mwarnings.warn\u001b[0m\u001b[1m(\u001b[0m                                                       \u001b[2m               \u001b[0m\n",
       "\u001b[2;36m                    \u001b[0m                                                                                \u001b[2m               \u001b[0m\n"
      ]
     },
     "metadata": {},
     "output_type": "display_data"
    },
    {
     "data": {
      "text/html": [
       "<pre style=\"white-space:pre;overflow-x:auto;line-height:normal;font-family:Menlo,'DejaVu Sans Mono',consolas,'Courier New',monospace\"><span style=\"color: #7fbfbf; text-decoration-color: #7fbfbf\">[09/20/23 14:29:58] </span><span style=\"color: #000080; text-decoration-color: #000080\">INFO    </span> Kedro project Fighting Illutions                                       <a href=\"file:///home/jamontanac/miniconda3/envs/kedro-environment/lib/python3.10/site-packages/kedro/ipython/__init__.py\" target=\"_blank\"><span style=\"color: #7f7f7f; text-decoration-color: #7f7f7f\">__init__.py</span></a><span style=\"color: #7f7f7f; text-decoration-color: #7f7f7f\">:</span><a href=\"file:///home/jamontanac/miniconda3/envs/kedro-environment/lib/python3.10/site-packages/kedro/ipython/__init__.py#108\" target=\"_blank\"><span style=\"color: #7f7f7f; text-decoration-color: #7f7f7f\">108</span></a>\n",
       "</pre>\n"
      ],
      "text/plain": [
       "\u001b[2;36m[09/20/23 14:29:58]\u001b[0m\u001b[2;36m \u001b[0m\u001b[34mINFO    \u001b[0m Kedro project Fighting Illutions                                       \u001b]8;id=655435;file:///home/jamontanac/miniconda3/envs/kedro-environment/lib/python3.10/site-packages/kedro/ipython/__init__.py\u001b\\\u001b[2m__init__.py\u001b[0m\u001b]8;;\u001b\\\u001b[2m:\u001b[0m\u001b]8;id=438629;file:///home/jamontanac/miniconda3/envs/kedro-environment/lib/python3.10/site-packages/kedro/ipython/__init__.py#108\u001b\\\u001b[2m108\u001b[0m\u001b]8;;\u001b\\\n"
      ]
     },
     "metadata": {},
     "output_type": "display_data"
    },
    {
     "data": {
      "text/html": [
       "<pre style=\"white-space:pre;overflow-x:auto;line-height:normal;font-family:Menlo,'DejaVu Sans Mono',consolas,'Courier New',monospace\"><span style=\"color: #7fbfbf; text-decoration-color: #7fbfbf\">                    </span><span style=\"color: #000080; text-decoration-color: #000080\">INFO    </span> Defined global variable <span style=\"color: #008000; text-decoration-color: #008000\">'context'</span>, <span style=\"color: #008000; text-decoration-color: #008000\">'session'</span>, <span style=\"color: #008000; text-decoration-color: #008000\">'catalog'</span> and            <a href=\"file:///home/jamontanac/miniconda3/envs/kedro-environment/lib/python3.10/site-packages/kedro/ipython/__init__.py\" target=\"_blank\"><span style=\"color: #7f7f7f; text-decoration-color: #7f7f7f\">__init__.py</span></a><span style=\"color: #7f7f7f; text-decoration-color: #7f7f7f\">:</span><a href=\"file:///home/jamontanac/miniconda3/envs/kedro-environment/lib/python3.10/site-packages/kedro/ipython/__init__.py#109\" target=\"_blank\"><span style=\"color: #7f7f7f; text-decoration-color: #7f7f7f\">109</span></a>\n",
       "<span style=\"color: #7fbfbf; text-decoration-color: #7fbfbf\">                    </span>         <span style=\"color: #008000; text-decoration-color: #008000\">'pipelines'</span>                                                            <span style=\"color: #7f7f7f; text-decoration-color: #7f7f7f\">               </span>\n",
       "</pre>\n"
      ],
      "text/plain": [
       "\u001b[2;36m                   \u001b[0m\u001b[2;36m \u001b[0m\u001b[34mINFO    \u001b[0m Defined global variable \u001b[32m'context'\u001b[0m, \u001b[32m'session'\u001b[0m, \u001b[32m'catalog'\u001b[0m and            \u001b]8;id=999127;file:///home/jamontanac/miniconda3/envs/kedro-environment/lib/python3.10/site-packages/kedro/ipython/__init__.py\u001b\\\u001b[2m__init__.py\u001b[0m\u001b]8;;\u001b\\\u001b[2m:\u001b[0m\u001b]8;id=215122;file:///home/jamontanac/miniconda3/envs/kedro-environment/lib/python3.10/site-packages/kedro/ipython/__init__.py#109\u001b\\\u001b[2m109\u001b[0m\u001b]8;;\u001b\\\n",
       "\u001b[2;36m                    \u001b[0m         \u001b[32m'pipelines'\u001b[0m                                                            \u001b[2m               \u001b[0m\n"
      ]
     },
     "metadata": {},
     "output_type": "display_data"
    },
    {
     "data": {
      "text/html": [
       "<pre style=\"white-space:pre;overflow-x:auto;line-height:normal;font-family:Menlo,'DejaVu Sans Mono',consolas,'Courier New',monospace\"><span style=\"color: #7fbfbf; text-decoration-color: #7fbfbf\">                    </span><span style=\"color: #000080; text-decoration-color: #000080\">INFO    </span> Registered line magic <span style=\"color: #008000; text-decoration-color: #008000\">'run_viz'</span>                                        <a href=\"file:///home/jamontanac/miniconda3/envs/kedro-environment/lib/python3.10/site-packages/kedro/ipython/__init__.py\" target=\"_blank\"><span style=\"color: #7f7f7f; text-decoration-color: #7f7f7f\">__init__.py</span></a><span style=\"color: #7f7f7f; text-decoration-color: #7f7f7f\">:</span><a href=\"file:///home/jamontanac/miniconda3/envs/kedro-environment/lib/python3.10/site-packages/kedro/ipython/__init__.py#115\" target=\"_blank\"><span style=\"color: #7f7f7f; text-decoration-color: #7f7f7f\">115</span></a>\n",
       "</pre>\n"
      ],
      "text/plain": [
       "\u001b[2;36m                   \u001b[0m\u001b[2;36m \u001b[0m\u001b[34mINFO    \u001b[0m Registered line magic \u001b[32m'run_viz'\u001b[0m                                        \u001b]8;id=95636;file:///home/jamontanac/miniconda3/envs/kedro-environment/lib/python3.10/site-packages/kedro/ipython/__init__.py\u001b\\\u001b[2m__init__.py\u001b[0m\u001b]8;;\u001b\\\u001b[2m:\u001b[0m\u001b]8;id=872292;file:///home/jamontanac/miniconda3/envs/kedro-environment/lib/python3.10/site-packages/kedro/ipython/__init__.py#115\u001b\\\u001b[2m115\u001b[0m\u001b]8;;\u001b\\\n"
      ]
     },
     "metadata": {},
     "output_type": "display_data"
    }
   ],
   "source": [
    "%reload_kedro"
   ]
  },
  {
   "cell_type": "code",
   "execution_count": 23,
   "id": "9e28ccc1",
   "metadata": {},
   "outputs": [
    {
     "data": {
      "text/html": [
       "<pre style=\"white-space:pre;overflow-x:auto;line-height:normal;font-family:Menlo,'DejaVu Sans Mono',consolas,'Courier New',monospace\"></pre>\n"
      ],
      "text/plain": []
     },
     "metadata": {},
     "output_type": "display_data"
    },
    {
     "data": {
      "text/plain": [
       "\n",
       "\u001b[1m[\u001b[0m\n",
       "    \u001b[32m'Resnet_model'\u001b[0m,\n",
       "    \u001b[32m'Regnet_x_model'\u001b[0m,\n",
       "    \u001b[32m'Regnet_y_model'\u001b[0m,\n",
       "    \u001b[32m'params:training_parameters_Resnet.model_name'\u001b[0m,\n",
       "    \u001b[32m'params:training_parameters_RegnetX.model_name'\u001b[0m,\n",
       "    \u001b[32m'params:training_parameters_RegnetY.model_name'\u001b[0m\n",
       "\u001b[1m]\u001b[0m"
      ]
     },
     "execution_count": 23,
     "metadata": {},
     "output_type": "execute_result"
    }
   ],
   "source": [
    "catalog.list(\"model\")"
   ]
  },
  {
   "cell_type": "markdown",
   "id": "34b3857e",
   "metadata": {},
   "source": [
    "# Generation of attack"
   ]
  },
  {
   "cell_type": "code",
   "execution_count": 3,
   "id": "df33352e",
   "metadata": {},
   "outputs": [],
   "source": [
    "import matplotlib.pylab as plt"
   ]
  },
  {
   "cell_type": "code",
   "execution_count": 4,
   "id": "793d5dfc",
   "metadata": {},
   "outputs": [
    {
     "name": "stdout",
     "output_type": "stream",
     "text": [
      "Object `PyTorchClassifier` not found.\n"
     ]
    }
   ],
   "source": [
    "PyTorchClassifier?"
   ]
  },
  {
   "cell_type": "code",
   "execution_count": 7,
   "id": "7a39be3c",
   "metadata": {},
   "outputs": [],
   "source": [
    "import torch\n",
    "import torch.nn as nn\n",
    "import torch.optim as optim\n",
    "import torch.nn.functional as F\n",
    "import torchvision\n",
    "import torchvision.transforms as transforms\n",
    "import art\n",
    "import numpy as np\n",
    "from art.attacks.evasion import FastGradientMethod, DeepFool\n",
    "from art.estimators.classification import PyTorchClassifier\n",
    "\n",
    "from typing import Tuple,Dict, List,Any\n",
    "import logging\n",
    "import importlib\n",
    "\n",
    "device = torch.device(\"cuda\" if torch.cuda.is_available() else \"cpu\")\n",
    "\n",
    "def Create_data_loader(batch_size=128)-> torch.utils.data.DataLoader:\n",
    "\n",
    "    transform_test = transforms.Compose([\n",
    "        transforms.ToTensor(),\n",
    "        transforms.Normalize((0.4914, 0.4822, 0.4465), (0.2023, 0.1994, 0.2010)),\n",
    "    ])\n",
    "\n",
    "    testset = torchvision.datasets.CIFAR10(\n",
    "        root='../data/01_raw', train=False, download=True, transform=transform_test)\n",
    "    testloader = torch.utils.data.DataLoader(\n",
    "        testset, batch_size=batch_size, shuffle=False, num_workers=2)\n",
    "    return testloader\n",
    "\n",
    "\n",
    "def init_model(model:torch.nn.Module,lr:float=0.001)->Tuple[nn.Module,nn.Module,optim.Optimizer]:\n",
    "    # Move model to GPU if available\n",
    "    model = model.to(device)\n",
    "    if device == 'cuda':\n",
    "        model= torch.nn.DataParallel(model)\n",
    "        cudnn.benchmark = True\n",
    "    # Loss and optimizer\n",
    "    criterion = nn.CrossEntropyLoss()\n",
    "    optimizer = optim.SGD(model.parameters(), lr=lr,\n",
    "                        momentum=0.9, weight_decay=5e-4)\n",
    "    # scheduler = torch.optim.lr_scheduler.CosineAnnealingLR(optimizer, T_max=200)\n",
    "    return model, criterion, optimizer\n",
    "\n",
    "def denormalize(tensor, mean= torch.tensor([0.4914, 0.4822, 0.4465], dtype=torch.float32), std =  torch.tensor([0.2023, 0.1994, 0.2010], dtype=torch.float32)):\n",
    "    denorm = torch.clone(tensor)\n",
    "    for t, m, s in zip(denorm, mean, std):\n",
    "        t.mul_(s).add_(m)\n",
    "    return denorm\n",
    "\n",
    "\n",
    "def normalize(tensor, mean= torch.tensor([0.4914, 0.4822, 0.4465], dtype=torch.float32), std =  torch.tensor([0.2023, 0.1994, 0.2010], dtype=torch.float32)):\n",
    "    norm = torch.clone(tensor)\n",
    "    for t, m, s in zip(norm, mean, std):\n",
    "        t.sub_(m).div_(s)\n",
    "    return norm\n",
    "\n",
    "\n",
    "def classification(model:nn.Module)-> art.estimators.classification.pytorch.PyTorchClassifier:\n",
    "    model, criterion, optimizer = init_model(model)\n",
    "\n",
    "    if device == \"cuda\":\n",
    "        device_type = \"gpu\"\n",
    "    else:\n",
    "        device_type = \"cpu\"\n",
    "    \n",
    "    classifier = PyTorchClassifier(\n",
    "        model=model,\n",
    "        loss=criterion,\n",
    "        optimizer=optimizer,\n",
    "        nb_classes=10,\n",
    "        input_shape=(3, 32, 32),\n",
    "        device_type=device_type,\n",
    "        \n",
    "    )\n",
    "    return classifier\n",
    "def Evasion_Attack(classifier:art.estimators.classification.pytorch.PyTorchClassifier,attack:Dict):\n",
    "    attack_module = attack[\"module\"]\n",
    "    attack_type = attack[\"class\"]\n",
    "    attack_arguments = attack[\"kwargs\"]\n",
    "    \n",
    "    attack_class=getattr(importlib.import_module(attack_module),attack_type)\n",
    "    attack_instance = attack_class(classifier,**attack_arguments)\n",
    "\n",
    "\n",
    "    return attack_instance\n",
    "\n",
    "def Adversarial_generation(classifier, attack_params: Dict):\n",
    "    attack = Evasion_Attack(classifier,attack_params)\n",
    "    logger = logging.getLogger(__name__)\n",
    "\n",
    "    logger.info(f\"Creating attack of type {type(attack)}\")\n",
    "    testloader = Create_data_loader()\n",
    "    real_labels = []\n",
    "    model_labels = []\n",
    "    adversarial_examples = []\n",
    "    adversarial_labels = []\n",
    "    label_confidence = []\n",
    "    adv_label_confidence = []\n",
    "    for data in testloader:\n",
    "        images, labels = data\n",
    "        images_cpu = images.cpu().detach().numpy()\n",
    "        x_test_adv = attack.generate(x=images_cpu,y=labels.cpu().numpy())\n",
    "        with torch.no_grad():\n",
    "            # perform inference\n",
    "            label_prob = classifier.predict(images_cpu)\n",
    "            adv_label_prob = classifier.predict(x_test_adv)\n",
    "            \n",
    "            # get confidence and labels for real data\n",
    "            predictions = np.argmax(label_prob,axis=1)\n",
    "            confidence_predictions = np.max(label_prob,axis=1)\n",
    "            \n",
    "            # get confidence and labels for adversarial data\n",
    "            adversarial_predictions = np.argmax(adv_label_prob,axis=1)\n",
    "            confidence_predictions_adv = np.max(adv_label_prob,axis=1)\n",
    "\n",
    "            \n",
    "        \n",
    "        adversarial_denorm = [denormalize(torch.tensor(x)) for x in x_test_adv]\n",
    "        \n",
    "        \n",
    "        label_confidence.extend(confidence_predictions)\n",
    "        adv_label_confidence.extend(confidence_predictions_adv)\n",
    "        adversarial_examples.extend(adversarial_denorm)\n",
    "        real_labels.extend(labels.cpu().numpy())\n",
    "        model_labels.extend(predictions)\n",
    "        adversarial_labels.extend(adversarial_predictions)\n",
    "        \n",
    "    all_adversarial_examples = torch.stack(adversarial_examples)\n",
    "    all_real_labels = torch.tensor(real_labels)\n",
    "    all_model_labels = torch.tensor(model_labels)\n",
    "    all_adversarial_labels = torch.tensor(adversarial_labels)\n",
    "    all_confidence_labels = torch.tensor(label_confidence)\n",
    "    all_adversarial_confidence_labels = torch.tensor(adv_label_confidence)\n",
    "    \n",
    "    adversarial_data = {\n",
    "        \"examples\": all_adversarial_examples,\n",
    "        \"confidence\": all_confidence_labels,\n",
    "        \"adversarial_confidence\": all_adversarial_confidence_labels,\n",
    "        \"real_labels\": all_real_labels,\n",
    "        \"model_labels\": all_model_labels,\n",
    "        \"adversarial_labels\": all_adversarial_labels,\n",
    "    }\n",
    "\n",
    "    old_accuracy = (all_real_labels == all_model_labels).sum().item()/ all_real_labels.size(0)\n",
    "    new_accuracy =  (all_real_labels == all_adversarial_labels).sum().item()/ all_real_labels.size(0)\n",
    "    logger.info(f\"Accuracy of the model was {old_accuracy*100:.2f}% and now is {new_accuracy*100:.2f}%\")\n",
    "    return adversarial_data"
   ]
  },
  {
   "cell_type": "code",
   "execution_count": 24,
   "id": "057bae8d",
   "metadata": {},
   "outputs": [
    {
     "data": {
      "text/html": [
       "<pre style=\"white-space:pre;overflow-x:auto;line-height:normal;font-family:Menlo,'DejaVu Sans Mono',consolas,'Courier New',monospace\"><span style=\"color: #7fbfbf; text-decoration-color: #7fbfbf\">[09/20/23 15:13:46] </span><span style=\"color: #000080; text-decoration-color: #000080\">INFO    </span> Loading data from <span style=\"color: #008000; text-decoration-color: #008000\">'params:Adversarial_Attacks'</span> <span style=\"font-weight: bold\">(</span>MemoryDataset<span style=\"font-weight: bold\">)</span><span style=\"color: #808000; text-decoration-color: #808000\">...</span>  <a href=\"file:///home/jamontanac/miniconda3/envs/kedro-environment/lib/python3.10/site-packages/kedro/io/data_catalog.py\" target=\"_blank\"><span style=\"color: #7f7f7f; text-decoration-color: #7f7f7f\">data_catalog.py</span></a><span style=\"color: #7f7f7f; text-decoration-color: #7f7f7f\">:</span><a href=\"file:///home/jamontanac/miniconda3/envs/kedro-environment/lib/python3.10/site-packages/kedro/io/data_catalog.py#492\" target=\"_blank\"><span style=\"color: #7f7f7f; text-decoration-color: #7f7f7f\">492</span></a>\n",
       "</pre>\n"
      ],
      "text/plain": [
       "\u001b[2;36m[09/20/23 15:13:46]\u001b[0m\u001b[2;36m \u001b[0m\u001b[34mINFO    \u001b[0m Loading data from \u001b[32m'params:Adversarial_Attacks'\u001b[0m \u001b[1m(\u001b[0mMemoryDataset\u001b[1m)\u001b[0m\u001b[33m...\u001b[0m  \u001b]8;id=555321;file:///home/jamontanac/miniconda3/envs/kedro-environment/lib/python3.10/site-packages/kedro/io/data_catalog.py\u001b\\\u001b[2mdata_catalog.py\u001b[0m\u001b]8;;\u001b\\\u001b[2m:\u001b[0m\u001b]8;id=605438;file:///home/jamontanac/miniconda3/envs/kedro-environment/lib/python3.10/site-packages/kedro/io/data_catalog.py#492\u001b\\\u001b[2m492\u001b[0m\u001b]8;;\u001b\\\n"
      ]
     },
     "metadata": {},
     "output_type": "display_data"
    }
   ],
   "source": [
    "attacks_list=catalog.load(\"params:Adversarial_Attacks\")"
   ]
  },
  {
   "cell_type": "markdown",
   "id": "fd3522ef",
   "metadata": {},
   "source": [
    "# Testing Deep Fool"
   ]
  },
  {
   "cell_type": "code",
   "execution_count": 118,
   "id": "345f8ae8",
   "metadata": {},
   "outputs": [
    {
     "data": {
      "text/html": [
       "<pre style=\"white-space:pre;overflow-x:auto;line-height:normal;font-family:Menlo,'DejaVu Sans Mono',consolas,'Courier New',monospace\"></pre>\n"
      ],
      "text/plain": []
     },
     "metadata": {},
     "output_type": "display_data"
    },
    {
     "data": {
      "text/plain": [
       "\n",
       "\u001b[1m{\u001b[0m\n",
       "    \u001b[32m'module'\u001b[0m: \u001b[32m'art.attacks.evasion'\u001b[0m,\n",
       "    \u001b[32m'class'\u001b[0m: \u001b[32m'DeepFool'\u001b[0m,\n",
       "    \u001b[32m'kwargs'\u001b[0m: \u001b[1m{\u001b[0m\u001b[32m'max_iter'\u001b[0m: \u001b[1;36m10\u001b[0m, \u001b[32m'epsilon'\u001b[0m: \u001b[1;36m0.001\u001b[0m, \u001b[32m'nb_grads'\u001b[0m: \u001b[1;36m10\u001b[0m, \u001b[32m'batch_size'\u001b[0m: \u001b[1;36m128\u001b[0m\u001b[1m}\u001b[0m\n",
       "\u001b[1m}\u001b[0m"
      ]
     },
     "execution_count": 118,
     "metadata": {},
     "output_type": "execute_result"
    }
   ],
   "source": [
    "attacks_list[\"DeepFool\"]"
   ]
  },
  {
   "cell_type": "code",
   "execution_count": 119,
   "id": "f0ed8e66",
   "metadata": {},
   "outputs": [
    {
     "data": {
      "text/html": [
       "<pre style=\"white-space:pre;overflow-x:auto;line-height:normal;font-family:Menlo,'DejaVu Sans Mono',consolas,'Courier New',monospace\"></pre>\n"
      ],
      "text/plain": []
     },
     "metadata": {},
     "output_type": "display_data"
    },
    {
     "data": {
      "text/plain": [
       "\n",
       "\u001b[1;35marray\u001b[0m\u001b[1m(\u001b[0m\u001b[1m[\u001b[0m\u001b[1;36m0\u001b[0m, \u001b[1;36m1\u001b[0m, \u001b[1;36m1\u001b[0m, \u001b[1;36m8\u001b[0m, \u001b[1;36m2\u001b[0m, \u001b[1;36m3\u001b[0m, \u001b[1;36m6\u001b[0m, \u001b[1;36m2\u001b[0m, \u001b[1;36m5\u001b[0m, \u001b[1;36m9\u001b[0m, \u001b[1;36m7\u001b[0m, \u001b[1;36m1\u001b[0m, \u001b[1;36m3\u001b[0m, \u001b[1;36m5\u001b[0m, \u001b[1;36m1\u001b[0m, \u001b[1;36m6\u001b[0m, \u001b[1;36m7\u001b[0m, \u001b[1;36m9\u001b[0m, \u001b[1;36m0\u001b[0m, \u001b[1;36m6\u001b[0m, \u001b[1;36m1\u001b[0m, \u001b[1;36m0\u001b[0m,\n",
       "       \u001b[1;36m0\u001b[0m, \u001b[1;36m1\u001b[0m, \u001b[1;36m5\u001b[0m, \u001b[1;36m3\u001b[0m, \u001b[1;36m3\u001b[0m, \u001b[1;36m2\u001b[0m, \u001b[1;36m1\u001b[0m, \u001b[1;36m4\u001b[0m, \u001b[1;36m4\u001b[0m, \u001b[1;36m4\u001b[0m, \u001b[1;36m8\u001b[0m, \u001b[1;36m3\u001b[0m, \u001b[1;36m0\u001b[0m, \u001b[1;36m8\u001b[0m, \u001b[1;36m7\u001b[0m, \u001b[1;36m9\u001b[0m, \u001b[1;36m0\u001b[0m, \u001b[1;36m3\u001b[0m, \u001b[1;36m0\u001b[0m, \u001b[1;36m4\u001b[0m, \u001b[1;36m3\u001b[0m, \u001b[1;36m2\u001b[0m,\n",
       "       \u001b[1;36m4\u001b[0m, \u001b[1;36m1\u001b[0m, \u001b[1;36m2\u001b[0m, \u001b[1;36m8\u001b[0m, \u001b[1;36m4\u001b[0m, \u001b[1;36m4\u001b[0m, \u001b[1;36m0\u001b[0m, \u001b[1;36m9\u001b[0m, \u001b[1;36m2\u001b[0m, \u001b[1;36m6\u001b[0m, \u001b[1;36m8\u001b[0m, \u001b[1;36m0\u001b[0m, \u001b[1;36m7\u001b[0m, \u001b[1;36m3\u001b[0m, \u001b[1;36m7\u001b[0m, \u001b[1;36m3\u001b[0m, \u001b[1;36m4\u001b[0m, \u001b[1;36m5\u001b[0m, \u001b[1;36m7\u001b[0m, \u001b[1;36m3\u001b[0m, \u001b[1;36m4\u001b[0m, \u001b[1;36m6\u001b[0m,\n",
       "       \u001b[1;36m1\u001b[0m, \u001b[1;36m4\u001b[0m, \u001b[1;36m3\u001b[0m, \u001b[1;36m1\u001b[0m, \u001b[1;36m8\u001b[0m, \u001b[1;36m3\u001b[0m, \u001b[1;36m3\u001b[0m, \u001b[1;36m0\u001b[0m, \u001b[1;36m9\u001b[0m, \u001b[1;36m7\u001b[0m, \u001b[1;36m2\u001b[0m, \u001b[1;36m5\u001b[0m, \u001b[1;36m7\u001b[0m, \u001b[1;36m0\u001b[0m, \u001b[1;36m8\u001b[0m, \u001b[1;36m9\u001b[0m, \u001b[1;36m2\u001b[0m, \u001b[1;36m5\u001b[0m, \u001b[1;36m5\u001b[0m, \u001b[1;36m9\u001b[0m, \u001b[1;36m4\u001b[0m, \u001b[1;36m3\u001b[0m,\n",
       "       \u001b[1;36m9\u001b[0m, \u001b[1;36m8\u001b[0m, \u001b[1;36m8\u001b[0m, \u001b[1;36m3\u001b[0m, \u001b[1;36m4\u001b[0m, \u001b[1;36m8\u001b[0m, \u001b[1;36m5\u001b[0m, \u001b[1;36m6\u001b[0m, \u001b[1;36m3\u001b[0m, \u001b[1;36m2\u001b[0m, \u001b[1;36m2\u001b[0m, \u001b[1;36m3\u001b[0m, \u001b[1;36m7\u001b[0m, \u001b[1;36m6\u001b[0m, \u001b[1;36m9\u001b[0m, \u001b[1;36m6\u001b[0m, \u001b[1;36m9\u001b[0m, \u001b[1;36m0\u001b[0m, \u001b[1;36m5\u001b[0m, \u001b[1;36m4\u001b[0m, \u001b[1;36m1\u001b[0m, \u001b[1;36m6\u001b[0m,\n",
       "       \u001b[1;36m3\u001b[0m, \u001b[1;36m1\u001b[0m, \u001b[1;36m0\u001b[0m, \u001b[1;36m3\u001b[0m, \u001b[1;36m8\u001b[0m, \u001b[1;36m5\u001b[0m, \u001b[1;36m2\u001b[0m, \u001b[1;36m9\u001b[0m, \u001b[1;36m2\u001b[0m, \u001b[1;36m5\u001b[0m, \u001b[1;36m0\u001b[0m, \u001b[1;36m5\u001b[0m, \u001b[1;36m6\u001b[0m, \u001b[1;36m4\u001b[0m, \u001b[1;36m0\u001b[0m, \u001b[1;36m0\u001b[0m, \u001b[1;36m9\u001b[0m, \u001b[1;36m4\u001b[0m\u001b[1m]\u001b[0m\u001b[1m)\u001b[0m"
      ]
     },
     "execution_count": 119,
     "metadata": {},
     "output_type": "execute_result"
    }
   ],
   "source": [
    "adversarial_predictions"
   ]
  },
  {
   "cell_type": "code",
   "execution_count": 167,
   "id": "08c85e67",
   "metadata": {},
   "outputs": [],
   "source": [
    "DeepFool_attack={\n",
    "    'module': 'art.attacks.evasion',\n",
    "    'class': 'DeepFool',\n",
    "    'kwargs': {'max_iter': 10, 'epsilon': 0.01, 'nb_grads': 10, 'batch_size': 256}\n",
    "}"
   ]
  },
  {
   "cell_type": "code",
   "execution_count": 168,
   "id": "0251acea",
   "metadata": {},
   "outputs": [
    {
     "data": {
      "text/html": [
       "<pre style=\"white-space:pre;overflow-x:auto;line-height:normal;font-family:Menlo,'DejaVu Sans Mono',consolas,'Courier New',monospace\"><span style=\"color: #7fbfbf; text-decoration-color: #7fbfbf\">[09/19/23 22:47:54] </span><span style=\"color: #000080; text-decoration-color: #000080\">INFO    </span> Loading data from <span style=\"color: #008000; text-decoration-color: #008000\">'Resnet_model'</span> <span style=\"font-weight: bold\">(</span>PytorchDatasetModel<span style=\"font-weight: bold\">)</span><span style=\"color: #808000; text-decoration-color: #808000\">...</span>          <a href=\"file:///home/jamontanac/miniconda3/envs/kedro-environment/lib/python3.10/site-packages/kedro/io/data_catalog.py\" target=\"_blank\"><span style=\"color: #7f7f7f; text-decoration-color: #7f7f7f\">data_catalog.py</span></a><span style=\"color: #7f7f7f; text-decoration-color: #7f7f7f\">:</span><a href=\"file:///home/jamontanac/miniconda3/envs/kedro-environment/lib/python3.10/site-packages/kedro/io/data_catalog.py#492\" target=\"_blank\"><span style=\"color: #7f7f7f; text-decoration-color: #7f7f7f\">492</span></a>\n",
       "</pre>\n"
      ],
      "text/plain": [
       "\u001b[2;36m[09/19/23 22:47:54]\u001b[0m\u001b[2;36m \u001b[0m\u001b[34mINFO    \u001b[0m Loading data from \u001b[32m'Resnet_model'\u001b[0m \u001b[1m(\u001b[0mPytorchDatasetModel\u001b[1m)\u001b[0m\u001b[33m...\u001b[0m          \u001b]8;id=725994;file:///home/jamontanac/miniconda3/envs/kedro-environment/lib/python3.10/site-packages/kedro/io/data_catalog.py\u001b\\\u001b[2mdata_catalog.py\u001b[0m\u001b]8;;\u001b\\\u001b[2m:\u001b[0m\u001b]8;id=422529;file:///home/jamontanac/miniconda3/envs/kedro-environment/lib/python3.10/site-packages/kedro/io/data_catalog.py#492\u001b\\\u001b[2m492\u001b[0m\u001b]8;;\u001b\\\n"
      ]
     },
     "metadata": {},
     "output_type": "display_data"
    },
    {
     "data": {
      "text/html": [
       "<pre style=\"white-space:pre;overflow-x:auto;line-height:normal;font-family:Menlo,'DejaVu Sans Mono',consolas,'Courier New',monospace\"><span style=\"color: #7fbfbf; text-decoration-color: #7fbfbf\">                    </span><span style=\"color: #800000; text-decoration-color: #800000\">WARNING </span> The `clip_values` attribute of the estimator is `<span style=\"color: #800080; text-decoration-color: #800080; font-style: italic\">None</span>`, therefore this  <a href=\"file:///home/jamontanac/miniconda3/envs/kedro-environment/lib/python3.10/site-packages/art/attacks/evasion/deepfool.py\" target=\"_blank\"><span style=\"color: #7f7f7f; text-decoration-color: #7f7f7f\">deepfool.py</span></a><span style=\"color: #7f7f7f; text-decoration-color: #7f7f7f\">:</span><a href=\"file:///home/jamontanac/miniconda3/envs/kedro-environment/lib/python3.10/site-packages/art/attacks/evasion/deepfool.py#87\" target=\"_blank\"><span style=\"color: #7f7f7f; text-decoration-color: #7f7f7f\">87</span></a>\n",
       "<span style=\"color: #7fbfbf; text-decoration-color: #7fbfbf\">                    </span>         instance of DeepFool will by default generate adversarial perturbations <span style=\"color: #7f7f7f; text-decoration-color: #7f7f7f\">              </span>\n",
       "<span style=\"color: #7fbfbf; text-decoration-color: #7fbfbf\">                    </span>         scaled for input values in the range <span style=\"font-weight: bold\">[</span><span style=\"color: #008080; text-decoration-color: #008080; font-weight: bold\">0</span>, <span style=\"color: #008080; text-decoration-color: #008080; font-weight: bold\">1</span><span style=\"font-weight: bold\">]</span> but not clip the            <span style=\"color: #7f7f7f; text-decoration-color: #7f7f7f\">              </span>\n",
       "<span style=\"color: #7fbfbf; text-decoration-color: #7fbfbf\">                    </span>         adversarial example.                                                    <span style=\"color: #7f7f7f; text-decoration-color: #7f7f7f\">              </span>\n",
       "</pre>\n"
      ],
      "text/plain": [
       "\u001b[2;36m                   \u001b[0m\u001b[2;36m \u001b[0m\u001b[31mWARNING \u001b[0m The `clip_values` attribute of the estimator is `\u001b[3;35mNone\u001b[0m`, therefore this  \u001b]8;id=20391;file:///home/jamontanac/miniconda3/envs/kedro-environment/lib/python3.10/site-packages/art/attacks/evasion/deepfool.py\u001b\\\u001b[2mdeepfool.py\u001b[0m\u001b]8;;\u001b\\\u001b[2m:\u001b[0m\u001b]8;id=621829;file:///home/jamontanac/miniconda3/envs/kedro-environment/lib/python3.10/site-packages/art/attacks/evasion/deepfool.py#87\u001b\\\u001b[2m87\u001b[0m\u001b]8;;\u001b\\\n",
       "\u001b[2;36m                    \u001b[0m         instance of DeepFool will by default generate adversarial perturbations \u001b[2m              \u001b[0m\n",
       "\u001b[2;36m                    \u001b[0m         scaled for input values in the range \u001b[1m[\u001b[0m\u001b[1;36m0\u001b[0m, \u001b[1;36m1\u001b[0m\u001b[1m]\u001b[0m but not clip the            \u001b[2m              \u001b[0m\n",
       "\u001b[2;36m                    \u001b[0m         adversarial example.                                                    \u001b[2m              \u001b[0m\n"
      ]
     },
     "metadata": {},
     "output_type": "display_data"
    }
   ],
   "source": [
    "resnet_model = catalog.load(\"Resnet_model\")\n",
    "classifier = classification(resnet_model)\n",
    "attack = Evasion_Attack(classifier,attack=DeepFool_attack)"
   ]
  },
  {
   "cell_type": "code",
   "execution_count": 169,
   "id": "977d01f2",
   "metadata": {},
   "outputs": [
    {
     "name": "stdout",
     "output_type": "stream",
     "text": [
      "Files already downloaded and verified\n"
     ]
    },
    {
     "data": {
      "application/vnd.jupyter.widget-view+json": {
       "model_id": "25edc680cd7a424dbf0c52bff95542ee",
       "version_major": 2,
       "version_minor": 0
      },
      "text/plain": [
       "DeepFool:   0%|          | 0/1 [00:00<?, ?it/s]"
      ]
     },
     "metadata": {},
     "output_type": "display_data"
    },
    {
     "name": "stdout",
     "output_type": "stream",
     "text": [
      "Accuracy of the model was 85.94% and now is 7.81%\n"
     ]
    }
   ],
   "source": [
    "testloader = Create_data_loader()\n",
    "real_labels = []\n",
    "model_labels = []\n",
    "adversarial_examples = []\n",
    "adversarial_labels = []\n",
    "label_confidence = []\n",
    "adv_label_confidence = []\n",
    "for data in testloader:\n",
    "    images, labels = data\n",
    "    images_cpu = images.cpu().detach().numpy()\n",
    "    x_test_adv = attack.generate(x=images_cpu,y=labels.cpu().numpy())\n",
    "    with torch.no_grad():\n",
    "        # perform inference\n",
    "        label_prob = classifier.predict(images_cpu)\n",
    "        adv_label_prob = classifier.predict(x_test_adv)\n",
    "        \n",
    "        # get confidence and labels for real data\n",
    "        predictions = np.argmax(label_prob,axis=1)\n",
    "        confidence_predictions = np.max(F.softmax(torch.tensor(label_prob),dim=1).cpu().numpy(),axis=1)\n",
    "        \n",
    "        # get confidence and labels for adversarial data\n",
    "        adversarial_predictions = np.argmax(adv_label_prob,axis=1)\n",
    "        confidence_predictions_adv = np.max(F.softmax(torch.tensor(adv_label_prob),dim=1).cpu().numpy(),axis=1)\n",
    "\n",
    "            \n",
    "        \n",
    "    adversarial_denorm = [denormalize(torch.tensor(x)) for x in x_test_adv]\n",
    "    \n",
    "    \n",
    "    label_confidence.extend(confidence_predictions)\n",
    "    adv_label_confidence.extend(confidence_predictions_adv)\n",
    "    adversarial_examples.extend(adversarial_denorm)\n",
    "    real_labels.extend(labels.cpu().numpy())\n",
    "    model_labels.extend(predictions)\n",
    "    adversarial_labels.extend(adversarial_predictions)\n",
    "    break\n",
    "    \n",
    "    \n",
    "all_adversarial_examples = torch.stack(adversarial_examples)\n",
    "all_real_labels = torch.tensor(real_labels)\n",
    "all_model_labels = torch.tensor(model_labels)\n",
    "all_adversarial_labels = torch.tensor(adversarial_labels)\n",
    "all_confidence_labels = torch.tensor(label_confidence)\n",
    "all_adversarial_confidence_labels = torch.tensor(adv_label_confidence)\n",
    "\n",
    "adversarial_data = {\n",
    "    \"examples\": all_adversarial_examples,\n",
    "    \"confidence\": all_confidence_labels,\n",
    "    \"adversarial_confidence\": all_adversarial_confidence_labels,\n",
    "    \"real_labels\": all_real_labels,\n",
    "    \"model_labels\": all_model_labels,\n",
    "    \"adversarial_labels\": all_adversarial_labels,\n",
    "}\n",
    "old_accuracy = (all_real_labels == all_model_labels).sum().item()/ all_real_labels.size(0)\n",
    "new_accuracy =  (all_real_labels == all_adversarial_labels).sum().item()/ all_real_labels.size(0)\n",
    "print(f\"Accuracy of the model was {old_accuracy*100:.2f}% and now is {new_accuracy*100:.2f}%\")\n"
   ]
  },
  {
   "cell_type": "code",
   "execution_count": null,
   "id": "05ed0001",
   "metadata": {},
   "outputs": [],
   "source": []
  },
  {
   "cell_type": "code",
   "execution_count": 170,
   "id": "603f3007",
   "metadata": {},
   "outputs": [
    {
     "data": {
      "text/html": [
       "<pre style=\"white-space:pre;overflow-x:auto;line-height:normal;font-family:Menlo,'DejaVu Sans Mono',consolas,'Courier New',monospace\"></pre>\n"
      ],
      "text/plain": []
     },
     "metadata": {},
     "output_type": "display_data"
    },
    {
     "data": {
      "image/png": "[encoded data removed]",
      "text/plain": [
       "\u001b[1m<\u001b[0m\u001b[1;95mFigure\u001b[0m\u001b[39m size 64\u001b[0m\u001b[1;36m0x480\u001b[0m\u001b[39m with \u001b[0m\u001b[1;36m1\u001b[0m\u001b[39m Axes\u001b[0m\u001b[1m>\u001b[0m"
      ]
     },
     "metadata": {},
     "output_type": "display_data"
    }
   ],
   "source": [
    "classes=['airplane', 'automobile', 'bird', 'cat', 'deer', 'dog', 'frog', 'horse', 'ship', 'truck']\n",
    "to_viz=10\n",
    "plot_title = f\"Real:{classes[all_real_labels[to_viz]]}\\n Adv:{classes[all_adversarial_labels[to_viz]]} ({all_adversarial_confidence_labels[to_viz]:.2f}) \\n model: {classes[all_model_labels[to_viz]]} ({all_confidence_labels[to_viz]:.2f})\"\n",
    "plt.imshow(all_adversarial_examples[to_viz].numpy().transpose((1,2,0)))\n",
    "plt.title(plot_title)\n",
    "plt.show()"
   ]
  },
  {
   "cell_type": "code",
   "execution_count": null,
   "id": "cf33de06",
   "metadata": {},
   "outputs": [],
   "source": []
  },
  {
   "cell_type": "code",
   "execution_count": 171,
   "id": "5e906be2",
   "metadata": {},
   "outputs": [
    {
     "data": {
      "text/html": [
       "<pre style=\"white-space:pre;overflow-x:auto;line-height:normal;font-family:Menlo,'DejaVu Sans Mono',consolas,'Courier New',monospace\"></pre>\n"
      ],
      "text/plain": []
     },
     "metadata": {},
     "output_type": "display_data"
    },
    {
     "data": {
      "image/png": "[encoded data removed]",
      "text/plain": [
       "\u001b[1m<\u001b[0m\u001b[1;95mFigure\u001b[0m\u001b[39m size 64\u001b[0m\u001b[1;36m0x480\u001b[0m\u001b[39m with \u001b[0m\u001b[1;36m1\u001b[0m\u001b[39m Axes\u001b[0m\u001b[1m>\u001b[0m"
      ]
     },
     "metadata": {},
     "output_type": "display_data"
    }
   ],
   "source": [
    "\n",
    "plt.imshow(denormalize(images[to_viz]).numpy().transpose((1,2,0)))\n",
    "#plt.title(\"Adv:\"+classes[images[to_viz]]+\"\\n Real:\"+classes[all_real_labels[to_viz]])\n",
    "plt.show()"
   ]
  },
  {
   "cell_type": "markdown",
   "id": "40cbfc99",
   "metadata": {},
   "source": [
    "# Testing Carlini L2"
   ]
  },
  {
   "cell_type": "code",
   "execution_count": 172,
   "id": "89099df8",
   "metadata": {},
   "outputs": [
    {
     "data": {
      "text/html": [
       "<pre style=\"white-space:pre;overflow-x:auto;line-height:normal;font-family:Menlo,'DejaVu Sans Mono',consolas,'Courier New',monospace\"></pre>\n"
      ],
      "text/plain": []
     },
     "metadata": {},
     "output_type": "display_data"
    },
    {
     "data": {
      "text/plain": [
       "\n",
       "\u001b[1m{\u001b[0m\n",
       "    \u001b[32m'module'\u001b[0m: \u001b[32m'art.attacks.evasion'\u001b[0m,\n",
       "    \u001b[32m'class'\u001b[0m: \u001b[32m'CarliniL2Method'\u001b[0m,\n",
       "    \u001b[32m'kwargs'\u001b[0m: \u001b[1m{\u001b[0m\n",
       "        \u001b[32m'confidence'\u001b[0m: \u001b[1;36m0.0\u001b[0m,\n",
       "        \u001b[32m'targeted'\u001b[0m: \u001b[3;91mFalse\u001b[0m,\n",
       "        \u001b[32m'learning_rate'\u001b[0m: \u001b[1;36m0.01\u001b[0m,\n",
       "        \u001b[32m'binary_search_steps'\u001b[0m: \u001b[1;36m5\u001b[0m,\n",
       "        \u001b[32m'max_iter'\u001b[0m: \u001b[1;36m10\u001b[0m,\n",
       "        \u001b[32m'initial_const'\u001b[0m: \u001b[1;36m0.01\u001b[0m,\n",
       "        \u001b[32m'max_halving'\u001b[0m: \u001b[1;36m5\u001b[0m,\n",
       "        \u001b[32m'max_doubling'\u001b[0m: \u001b[1;36m5\u001b[0m,\n",
       "        \u001b[32m'batch_size'\u001b[0m: \u001b[1;36m128\u001b[0m,\n",
       "        \u001b[32m'verbose'\u001b[0m: \u001b[3;92mTrue\u001b[0m\n",
       "    \u001b[1m}\u001b[0m\n",
       "\u001b[1m}\u001b[0m"
      ]
     },
     "execution_count": 172,
     "metadata": {},
     "output_type": "execute_result"
    }
   ],
   "source": [
    "attacks_list[\"CarliniL2\"]"
   ]
  },
  {
   "cell_type": "code",
   "execution_count": 8,
   "id": "8a1ad58d",
   "metadata": {},
   "outputs": [],
   "source": [
    "Carlini_attack={\n",
    "    'module': 'art.attacks.evasion',\n",
    "    'class': 'CarliniL2Method',\n",
    "    'kwargs': {\n",
    "        'confidence': 1,\n",
    "        'targeted': False,\n",
    "        'learning_rate': 0.01,\n",
    "        'binary_search_steps': 5,\n",
    "        'max_iter': 10,\n",
    "        'initial_const': 0.01,\n",
    "        'max_halving': 5,\n",
    "        'max_doubling': 5,\n",
    "        'batch_size': 128,\n",
    "        'verbose': True\n",
    "    }\n",
    "}"
   ]
  },
  {
   "cell_type": "code",
   "execution_count": 9,
   "id": "0c2d13d0",
   "metadata": {},
   "outputs": [
    {
     "data": {
      "text/html": [
       "<pre style=\"white-space:pre;overflow-x:auto;line-height:normal;font-family:Menlo,'DejaVu Sans Mono',consolas,'Courier New',monospace\"><span style=\"color: #7fbfbf; text-decoration-color: #7fbfbf\">[09/20/23 08:37:39] </span><span style=\"color: #000080; text-decoration-color: #000080\">INFO    </span> Loading data from <span style=\"color: #008000; text-decoration-color: #008000\">'Resnet_model'</span> <span style=\"font-weight: bold\">(</span>PytorchDatasetModel<span style=\"font-weight: bold\">)</span><span style=\"color: #808000; text-decoration-color: #808000\">...</span>          <a href=\"file:///home/jamontanac/miniconda3/envs/kedro-environment/lib/python3.10/site-packages/kedro/io/data_catalog.py\" target=\"_blank\"><span style=\"color: #7f7f7f; text-decoration-color: #7f7f7f\">data_catalog.py</span></a><span style=\"color: #7f7f7f; text-decoration-color: #7f7f7f\">:</span><a href=\"file:///home/jamontanac/miniconda3/envs/kedro-environment/lib/python3.10/site-packages/kedro/io/data_catalog.py#492\" target=\"_blank\"><span style=\"color: #7f7f7f; text-decoration-color: #7f7f7f\">492</span></a>\n",
       "</pre>\n"
      ],
      "text/plain": [
       "\u001b[2;36m[09/20/23 08:37:39]\u001b[0m\u001b[2;36m \u001b[0m\u001b[34mINFO    \u001b[0m Loading data from \u001b[32m'Resnet_model'\u001b[0m \u001b[1m(\u001b[0mPytorchDatasetModel\u001b[1m)\u001b[0m\u001b[33m...\u001b[0m          \u001b]8;id=162693;file:///home/jamontanac/miniconda3/envs/kedro-environment/lib/python3.10/site-packages/kedro/io/data_catalog.py\u001b\\\u001b[2mdata_catalog.py\u001b[0m\u001b]8;;\u001b\\\u001b[2m:\u001b[0m\u001b]8;id=978217;file:///home/jamontanac/miniconda3/envs/kedro-environment/lib/python3.10/site-packages/kedro/io/data_catalog.py#492\u001b\\\u001b[2m492\u001b[0m\u001b]8;;\u001b\\\n"
      ]
     },
     "metadata": {},
     "output_type": "display_data"
    }
   ],
   "source": [
    "resnet_model = catalog.load(\"Resnet_model\")\n",
    "classifier = classification(resnet_model)\n",
    "attack = Evasion_Attack(classifier,attack=Carlini_attack)"
   ]
  },
  {
   "cell_type": "code",
   "execution_count": 10,
   "id": "95369929",
   "metadata": {},
   "outputs": [
    {
     "name": "stdout",
     "output_type": "stream",
     "text": [
      "Files already downloaded and verified\n"
     ]
    },
    {
     "data": {
      "application/vnd.jupyter.widget-view+json": {
       "model_id": "39f948cc01fd4918bd931c60bd99c7c2",
       "version_major": 2,
       "version_minor": 0
      },
      "text/plain": [
       "C&W L_2:   0%|          | 0/4 [00:00<?, ?it/s]"
      ]
     },
     "metadata": {},
     "output_type": "display_data"
    },
    {
     "name": "stdout",
     "output_type": "stream",
     "text": [
      "Accuracy of the model was 84.18% and now is 63.48%\n"
     ]
    }
   ],
   "source": [
    "testloader = Create_data_loader(batch_size=512)\n",
    "real_labels = []\n",
    "model_labels = []\n",
    "adversarial_examples = []\n",
    "adversarial_labels = []\n",
    "label_confidence = []\n",
    "adv_label_confidence = []\n",
    "for data in testloader:\n",
    "    images, labels = data\n",
    "    images_cpu = images.cpu().detach().numpy()\n",
    "    x_test_adv = attack.generate(x=images_cpu,y=labels.cpu().numpy())\n",
    "    with torch.no_grad():\n",
    "        # perform inference\n",
    "        label_prob = classifier.predict(images_cpu)\n",
    "        adv_label_prob = classifier.predict(x_test_adv)\n",
    "        \n",
    "        # get confidence and labels for real data\n",
    "        predictions = np.argmax(label_prob,axis=1)\n",
    "        confidence_predictions = np.max(F.softmax(torch.tensor(label_prob),dim=1).cpu().numpy(),axis=1)\n",
    "        \n",
    "        # get confidence and labels for adversarial data\n",
    "        adversarial_predictions = np.argmax(adv_label_prob,axis=1)\n",
    "        confidence_predictions_adv = np.max(F.softmax(torch.tensor(adv_label_prob),dim=1).cpu().numpy(),axis=1)\n",
    "\n",
    "            \n",
    "        \n",
    "    adversarial_denorm = [denormalize(torch.tensor(x)) for x in x_test_adv]\n",
    "    \n",
    "    \n",
    "    label_confidence.extend(confidence_predictions)\n",
    "    adv_label_confidence.extend(confidence_predictions_adv)\n",
    "    adversarial_examples.extend(adversarial_denorm)\n",
    "    real_labels.extend(labels.cpu().numpy())\n",
    "    model_labels.extend(predictions)\n",
    "    adversarial_labels.extend(adversarial_predictions)\n",
    "    break\n",
    "    \n",
    "    \n",
    "all_adversarial_examples = torch.stack(adversarial_examples)\n",
    "all_real_labels = torch.tensor(real_labels)\n",
    "all_model_labels = torch.tensor(model_labels)\n",
    "all_adversarial_labels = torch.tensor(adversarial_labels)\n",
    "all_confidence_labels = torch.tensor(label_confidence)\n",
    "all_adversarial_confidence_labels = torch.tensor(adv_label_confidence)\n",
    "\n",
    "adversarial_data = {\n",
    "    \"examples\": all_adversarial_examples,\n",
    "    \"confidence\": all_confidence_labels,\n",
    "    \"adversarial_confidence\": all_adversarial_confidence_labels,\n",
    "    \"real_labels\": all_real_labels,\n",
    "    \"model_labels\": all_model_labels,\n",
    "    \"adversarial_labels\": all_adversarial_labels,\n",
    "}\n",
    "old_accuracy = (all_real_labels == all_model_labels).sum().item()/ all_real_labels.size(0)\n",
    "new_accuracy =  (all_real_labels == all_adversarial_labels).sum().item()/ all_real_labels.size(0)\n",
    "print(f\"Accuracy of the model was {old_accuracy*100:.2f}% and now is {new_accuracy*100:.2f}%\")"
   ]
  },
  {
   "cell_type": "code",
   "execution_count": 11,
   "id": "bf370880",
   "metadata": {},
   "outputs": [
    {
     "data": {
      "text/html": [
       "<pre style=\"white-space:pre;overflow-x:auto;line-height:normal;font-family:Menlo,'DejaVu Sans Mono',consolas,'Courier New',monospace\"></pre>\n"
      ],
      "text/plain": []
     },
     "metadata": {},
     "output_type": "display_data"
    },
    {
     "data": {
      "text/plain": [
       "\n",
       "\u001b[1m(\u001b[0m\n",
       "    \u001b[1;35marray\u001b[0m\u001b[1m(\u001b[0m\u001b[1m[\u001b[0m \u001b[1;36m12\u001b[0m,  \u001b[1;36m20\u001b[0m,  \u001b[1;36m24\u001b[0m,  \u001b[1;36m33\u001b[0m,  \u001b[1;36m37\u001b[0m,  \u001b[1;36m52\u001b[0m,  \u001b[1;36m53\u001b[0m,  \u001b[1;36m57\u001b[0m,  \u001b[1;36m61\u001b[0m,  \u001b[1;36m63\u001b[0m,  \u001b[1;36m66\u001b[0m,  \u001b[1;36m78\u001b[0m,  \u001b[1;36m95\u001b[0m,\n",
       "       \u001b[1;36m125\u001b[0m, \u001b[1;36m153\u001b[0m, \u001b[1;36m158\u001b[0m, \u001b[1;36m168\u001b[0m, \u001b[1;36m174\u001b[0m, \u001b[1;36m178\u001b[0m, \u001b[1;36m184\u001b[0m, \u001b[1;36m187\u001b[0m, \u001b[1;36m193\u001b[0m, \u001b[1;36m195\u001b[0m, \u001b[1;36m220\u001b[0m, \u001b[1;36m224\u001b[0m, \u001b[1;36m225\u001b[0m,\n",
       "       \u001b[1;36m233\u001b[0m, \u001b[1;36m249\u001b[0m, \u001b[1;36m255\u001b[0m, \u001b[1;36m256\u001b[0m, \u001b[1;36m264\u001b[0m, \u001b[1;36m271\u001b[0m, \u001b[1;36m310\u001b[0m, \u001b[1;36m319\u001b[0m, \u001b[1;36m332\u001b[0m, \u001b[1;36m368\u001b[0m, \u001b[1;36m383\u001b[0m, \u001b[1;36m405\u001b[0m, \u001b[1;36m411\u001b[0m,\n",
       "       \u001b[1;36m453\u001b[0m, \u001b[1;36m456\u001b[0m, \u001b[1;36m464\u001b[0m, \u001b[1;36m477\u001b[0m, \u001b[1;36m483\u001b[0m, \u001b[1;36m491\u001b[0m\u001b[1m]\u001b[0m\u001b[1m)\u001b[0m,\n",
       "\u001b[1m)\u001b[0m"
      ]
     },
     "execution_count": 11,
     "metadata": {},
     "output_type": "execute_result"
    }
   ],
   "source": [
    "np.where(all_adversarial_confidence_labels>all_confidence_labels)"
   ]
  },
  {
   "cell_type": "code",
   "execution_count": 14,
   "id": "cb986ea0",
   "metadata": {},
   "outputs": [
    {
     "data": {
      "text/html": [
       "<pre style=\"white-space:pre;overflow-x:auto;line-height:normal;font-family:Menlo,'DejaVu Sans Mono',consolas,'Courier New',monospace\"></pre>\n"
      ],
      "text/plain": []
     },
     "metadata": {},
     "output_type": "display_data"
    },
    {
     "data": {
      "image/png": "[encoded data removed]",
      "text/plain": [
       "\u001b[1m<\u001b[0m\u001b[1;95mFigure\u001b[0m\u001b[39m size 64\u001b[0m\u001b[1;36m0x480\u001b[0m\u001b[39m with \u001b[0m\u001b[1;36m1\u001b[0m\u001b[39m Axes\u001b[0m\u001b[1m>\u001b[0m"
      ]
     },
     "metadata": {},
     "output_type": "display_data"
    }
   ],
   "source": [
    "classes=['airplane', 'automobile', 'bird', 'cat', 'deer', 'dog', 'frog', 'horse', 'ship', 'truck']\n",
    "to_viz=52\n",
    "plot_title = f\"Real:{classes[all_real_labels[to_viz]]}\\n Adv:{classes[all_adversarial_labels[to_viz]]} ({all_adversarial_confidence_labels[to_viz]:.2f}) \\n model: {classes[all_model_labels[to_viz]]} ({all_confidence_labels[to_viz]:.2f})\"\n",
    "plt.imshow(all_adversarial_examples[to_viz].numpy().transpose((1,2,0)))\n",
    "plt.title(plot_title)\n",
    "plt.show()"
   ]
  },
  {
   "cell_type": "code",
   "execution_count": 16,
   "id": "690f728e",
   "metadata": {},
   "outputs": [
    {
     "data": {
      "text/html": [
       "<pre style=\"white-space:pre;overflow-x:auto;line-height:normal;font-family:Menlo,'DejaVu Sans Mono',consolas,'Courier New',monospace\"></pre>\n"
      ],
      "text/plain": []
     },
     "metadata": {},
     "output_type": "display_data"
    },
    {
     "data": {
      "image/png": "[encoded data removed]",
      "text/plain": [
       "\u001b[1m<\u001b[0m\u001b[1;95mFigure\u001b[0m\u001b[39m size 64\u001b[0m\u001b[1;36m0x480\u001b[0m\u001b[39m with \u001b[0m\u001b[1;36m1\u001b[0m\u001b[39m Axes\u001b[0m\u001b[1m>\u001b[0m"
      ]
     },
     "metadata": {},
     "output_type": "display_data"
    }
   ],
   "source": [
    "plt.imshow(denormalize(images[to_viz]).numpy().transpose((1,2,0)))\n",
    "#plt.title(\"Adv:\"+classes[images[to_viz]]+\"\\n Real:\"+classes[all_real_labels[to_viz]])\n",
    "plt.show()"
   ]
  },
  {
   "cell_type": "code",
   "execution_count": null,
   "id": "4bcc5551",
   "metadata": {},
   "outputs": [],
   "source": []
  },
  {
   "cell_type": "code",
   "execution_count": 18,
   "id": "963e3e98",
   "metadata": {},
   "outputs": [],
   "source": [
    "x=\"\"\"\n",
    "C&W L_2: 100%|█████████████████████████████████████████████████████████████████████████████████████████████████████████████████████████| 2/2 [06:37<00:00, 198.87s/it]\n",
    "C&W L_2: 100%|█████████████████████████████████████████████████████████████████████████████████████████████████████████████████████████| 2/2 [06:34<00:00, 197.41s/it]\n",
    "C&W L_2: 100%|█████████████████████████████████████████████████████████████████████████████████████████████████████████████████████████| 2/2 [06:33<00:00, 196.85s/it]\n",
    "C&W L_2: 100%|█████████████████████████████████████████████████████████████████████████████████████████████████████████████████████████| 2/2 [06:33<00:00, 196.97s/it]\n",
    "C&W L_2: 100%|█████████████████████████████████████████████████████████████████████████████████████████████████████████████████████████| 2/2 [06:33<00:00, 196.65s/it]\n",
    "C&W L_2: 100%|█████████████████████████████████████████████████████████████████████████████████████████████████████████████████████████| 2/2 [06:33<00:00, 196.79s/it]\n",
    "C&W L_2: 100%|█████████████████████████████████████████████████████████████████████████████████████████████████████████████████████████| 2/2 [06:33<00:00, 196.76s/it]\n",
    "C&W L_2: 100%|█████████████████████████████████████████████████████████████████████████████████████████████████████████████████████████| 2/2 [06:34<00:00, 197.08s/it]\n",
    "C&W L_2: 100%|█████████████████████████████████████████████████████████████████████████████████████████████████████████████████████████| 2/2 [06:33<00:00, 196.80s/it]\n",
    "C&W L_2: 100%|█████████████████████████████████████████████████████████████████████████████████████████████████████████████████████████| 2/2 [06:34<00:00, 197.10s/it]\n",
    "C&W L_2: 100%|█████████████████████████████████████████████████████████████████████████████████████████████████████████████████████████| 2/2 [06:34<00:00, 197.05s/it]\n",
    "C&W L_2: 100%|█████████████████████████████████████████████████████████████████████████████████████████████████████████████████████████| 2/2 [06:34<00:00, 197.05s/it]\n",
    "C&W L_2: 100%|█████████████████████████████████████████████████████████████████████████████████████████████████████████████████████████| 2/2 [06:34<00:00, 197.13s/it]\n",
    "C&W L_2: 100%|█████████████████████████████████████████████████████████████████████████████████████████████████████████████████████████| 2/2 [06:35<00:00, 197.59s/it]\n",
    "C&W L_2: 100%|█████████████████████████████████████████████████████████████████████████████████████████████████████████████████████████| 2/2 [06:34<00:00, 197.29s/it]\n",
    "C&W L_2: 100%|█████████████████████████████████████████████████████████████████████████████████████████████████████████████████████████| 2/2 [06:35<00:00, 197.60s/it]\n",
    "C&W L_2: 100%|█████████████████████████████████████████████████████████████████████████████████████████████████████████████████████████| 2/2 [06:34<00:00, 197.21s/it]\n",
    "C&W L_2: 100%|█████████████████████████████████████████████████████████████████████████████████████████████████████████████████████████| 2/2 [06:35<00:00, 197.87s/it]\n",
    "C&W L_2: 100%|█████████████████████████████████████████████████████████████████████████████████████████████████████████████████████████| 2/2 [06:35<00:00, 197.87s/it]\n",
    "C&W L_2: 100%|█████████████████████████████████████████████████████████████████████████████████████████████████████████████████████████| 2/2 [03:54<00:00, 117.25s/it]\n",
    "\"\"\""
   ]
  },
  {
   "cell_type": "code",
   "execution_count": 20,
   "id": "5c8182eb",
   "metadata": {},
   "outputs": [
    {
     "data": {
      "text/html": [
       "<pre style=\"white-space:pre;overflow-x:auto;line-height:normal;font-family:Menlo,'DejaVu Sans Mono',consolas,'Courier New',monospace\"></pre>\n"
      ],
      "text/plain": []
     },
     "metadata": {},
     "output_type": "display_data"
    },
    {
     "data": {
      "text/plain": [
       "\u001b[1;36m21\u001b[0m"
      ]
     },
     "execution_count": 20,
     "metadata": {},
     "output_type": "execute_result"
    }
   ],
   "source": [
    "x.count(\"\\n\")"
   ]
  },
  {
   "cell_type": "markdown",
   "id": "e2c16685",
   "metadata": {},
   "source": [
    "# Testing Projected Gradient Descend"
   ]
  },
  {
   "cell_type": "code",
   "execution_count": 25,
   "id": "63e2d173",
   "metadata": {},
   "outputs": [
    {
     "data": {
      "text/html": [
       "<pre style=\"white-space:pre;overflow-x:auto;line-height:normal;font-family:Menlo,'DejaVu Sans Mono',consolas,'Courier New',monospace\"></pre>\n"
      ],
      "text/plain": []
     },
     "metadata": {},
     "output_type": "display_data"
    },
    {
     "data": {
      "text/plain": [
       "\n",
       "\u001b[1m{\u001b[0m\n",
       "    \u001b[32m'module'\u001b[0m: \u001b[32m'art.attacks.evasion'\u001b[0m,\n",
       "    \u001b[32m'class'\u001b[0m: \u001b[32m'ProjectedGradientDescent'\u001b[0m,\n",
       "    \u001b[32m'kwargs'\u001b[0m: \u001b[1m{\u001b[0m\n",
       "        \u001b[32m'eps'\u001b[0m: \u001b[1;36m0.01\u001b[0m,\n",
       "        \u001b[32m'eps_step'\u001b[0m: \u001b[1;36m0.005\u001b[0m,\n",
       "        \u001b[32m'max_iter'\u001b[0m: \u001b[1;36m10\u001b[0m,\n",
       "        \u001b[32m'batch_size'\u001b[0m: \u001b[1;36m256\u001b[0m,\n",
       "        \u001b[32m'num_random_init'\u001b[0m: \u001b[1;36m1\u001b[0m\n",
       "    \u001b[1m}\u001b[0m\n",
       "\u001b[1m}\u001b[0m"
      ]
     },
     "execution_count": 25,
     "metadata": {},
     "output_type": "execute_result"
    }
   ],
   "source": [
    "attacks_list[\"PGD\"]"
   ]
  },
  {
   "cell_type": "code",
   "execution_count": null,
   "id": "ec2704e3",
   "metadata": {},
   "outputs": [],
   "source": [
    "pgd_attack={\n",
    "    'module': 'art.attacks.evasion',\n",
    "    'class': 'ProjectedGradientDescent',\n",
    "    'kwargs': {\n",
    "        'eps': 0.01,\n",
    "        'eps_step': 0.005,\n",
    "        'max_iter': 10,\n",
    "        'batch_size': 128,\n",
    "        'num_random_init': 1\n",
    "    }\n",
    "}\n",
    "\n",
    "resnet_model = catalog.load(\"Resnet_model\")\n",
    "classifier = classification(resnet_model)\n",
    "attack = Evasion_Attack(classifier,attack=pgd_attack)"
   ]
  }
 ],
 "metadata": {
  "kernelspec": {
   "display_name": "Kedro (Fighting-Illutions)",
   "language": "python",
   "name": "kedro_fighting-illutions"
  },
  "language_info": {
   "codemirror_mode": {
    "name": "ipython",
    "version": 3
   },
   "file_extension": ".py",
   "mimetype": "text/x-python",
   "name": "python",
   "nbconvert_exporter": "python",
   "pygments_lexer": "ipython3",
   "version": "3.10.13"
  }
 },
 "nbformat": 4,
 "nbformat_minor": 5
}
