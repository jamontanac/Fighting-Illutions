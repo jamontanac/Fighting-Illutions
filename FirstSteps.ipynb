{
 "cells": [
  {
   "cell_type": "markdown",
   "id": "6c7c51cb-3ff2-49b9-9465-a4d3e54a459d",
   "metadata": {},
   "source": [
    "# Ejemplo de uso de ART en pytorch"
   ]
  },
  {
   "cell_type": "markdown",
   "id": "870b9c31-b170-410d-be80-57d2f2506640",
   "metadata": {},
   "source": [
    "*Este ejemplo está basado en https://github.com/Trusted-AI/adversarial-robustness-toolbox/blob/main/examples/get_started_pytorch.py* \n",
    "\n",
    "Guía de instalación y documentación: https://github.com/Trusted-AI/adversarial-robustness-toolbox"
   ]
  },
  {
   "cell_type": "markdown",
   "id": "6a5386c1-6f68-4ab3-82ad-c5c32a096537",
   "metadata": {},
   "source": [
    "## Importaciones"
   ]
  },
  {
   "cell_type": "code",
   "execution_count": 1,
   "id": "9466eb3e-bbfe-4534-8155-36c3ab825c03",
   "metadata": {
    "tags": []
   },
   "outputs": [],
   "source": [
    "# Basic importations\n",
    "import torch.nn as nn\n",
    "import torch.nn.functional as F\n",
    "import torch.optim as optim\n",
    "import numpy as np\n",
    "import matplotlib.pyplot as plt\n",
    "\n",
    "# ART Importations\n",
    "from art.attacks.evasion import FastGradientMethod\n",
    "from art.estimators.classification import PyTorchClassifier\n",
    "from art.utils import load_cifar10"
   ]
  },
  {
   "cell_type": "markdown",
   "id": "b2b27a99-6fb9-4e19-9486-028b79fb2394",
   "metadata": {
    "tags": []
   },
   "source": [
    "## Datos\n",
    "\n",
    "El detalle de la función `load_cifar10`:\n",
    "\n",
    "```python\n",
    "def load_cifar10(\n",
    "    raw: bool = False,\n",
    ") -> DATASET_TYPE:\n",
    "    \"\"\"\n",
    "    Loads CIFAR10 dataset from config.CIFAR10_PATH or downloads it if necessary.\n",
    "\n",
    "    :param raw: `True` if no preprocessing should be applied to the data. Otherwise, data is normalized to 1.\n",
    "    :return: `(x_train, y_train), (x_test, y_test), min, max`\n",
    "    \"\"\"\n",
    "\n",
    "    def load_batch(fpath: str) -> Tuple[np.ndarray, np.ndarray]:\n",
    "        \"\"\"\n",
    "        Utility function for loading CIFAR batches, as written in Keras.\n",
    "\n",
    "        :param fpath: Full path to the batch file.\n",
    "        :return: `(data, labels)`\n",
    "        \"\"\"\n",
    "        with open(fpath, \"rb\") as file_:\n",
    "            if sys.version_info < (3,):\n",
    "                content = six.moves.cPickle.load(file_)\n",
    "            else:\n",
    "                content = six.moves.cPickle.load(file_, encoding=\"bytes\")\n",
    "                content_decoded = {}\n",
    "                for key, value in content.items():\n",
    "                    content_decoded[key.decode(\"utf8\")] = value\n",
    "                content = content_decoded\n",
    "        data = content[\"data\"]\n",
    "        labels = content[\"labels\"]\n",
    "\n",
    "        data = data.reshape(data.shape[0], 3, 32, 32)\n",
    "        return data, labels\n",
    "\n",
    "    path = get_file(\n",
    "        \"cifar-10-batches-py\",\n",
    "        extract=True,\n",
    "        path=config.ART_DATA_PATH,\n",
    "        url=\"https://www.cs.toronto.edu/~kriz/cifar-10-python.tar.gz\",\n",
    "    )\n",
    "\n",
    "    num_train_samples = 50000\n",
    "\n",
    "    x_train = np.zeros((num_train_samples, 3, 32, 32), dtype=np.uint8)\n",
    "    y_train = np.zeros((num_train_samples,), dtype=np.uint8)\n",
    "\n",
    "    for i in range(1, 6):\n",
    "        fpath = os.path.join(path, \"data_batch_\" + str(i))\n",
    "        data, labels = load_batch(fpath)\n",
    "        x_train[(i - 1) * 10000 : i * 10000, :, :, :] = data\n",
    "        y_train[(i - 1) * 10000 : i * 10000] = labels\n",
    "\n",
    "    fpath = os.path.join(path, \"test_batch\")\n",
    "    x_test, y_test = load_batch(fpath)\n",
    "\n",
    "    # Set channels last\n",
    "    x_train = x_train.transpose((0, 2, 3, 1))\n",
    "    x_test = x_test.transpose((0, 2, 3, 1))\n",
    "\n",
    "    min_, max_ = 0.0, 255.0\n",
    "    if not raw:\n",
    "        min_, max_ = 0.0, 1.0\n",
    "        x_train, y_train = preprocess(x_train, y_train, clip_values=(0, 255))\n",
    "        x_test, y_test = preprocess(x_test, y_test, clip_values=(0, 255))\n",
    "\n",
    "    return (x_train, y_train), (x_test, y_test), min_, max_\n",
    "```\n",
    "\n",
    "donde la función `get_file` se encarga de descargar el conjunto de datos a partir un link. (ver [documentación](https://github.com/Trusted-AI/adversarial-robustness-toolbox/blob/main/art/utils.py))"
   ]
  },
  {
   "cell_type": "markdown",
   "id": "86d053e9-aa79-40ef-9adb-6f06b85014d3",
   "metadata": {},
   "source": [
    "Algunas consideraciones importantes respecto al uso de esta función:\n",
    "* Hay un número determinado de imágenes para entrenamiento: 50000, lo que corresponde a un split de 83%-17%.\n",
    "* Por defecto, las imágenes son preprocesadas (normalizadas) usando la función `preprocess`:\n",
    "\n",
    "```python\n",
    "def preprocess(\n",
    "    x: np.ndarray,\n",
    "    y: np.ndarray,\n",
    "    nb_classes: int = 10,\n",
    "    clip_values: Optional[\"CLIP_VALUES_TYPE\"] = None,\n",
    ") -> Tuple[np.ndarray, np.ndarray]:\n",
    "    \"\"\"\n",
    "    Scales `x` to [0, 1] and converts `y` to class categorical confidences.\n",
    "\n",
    "    :param x: Data instances.\n",
    "    :param y: Labels.\n",
    "    :param nb_classes: Number of classes in dataset.\n",
    "    :param clip_values: Original data range allowed value for features, either one respective scalar or one value per\n",
    "           feature.\n",
    "    :return: Rescaled values of `x`, `y`.\n",
    "    \"\"\"\n",
    "    if clip_values is None:\n",
    "        min_, max_ = np.amin(x), np.amax(x)\n",
    "    else:\n",
    "        min_, max_ = clip_values\n",
    "\n",
    "    normalized_x = (x - min_) / (max_ - min_)\n",
    "    categorical_y = to_categorical(y, nb_classes)\n",
    "\n",
    "    return normalized_x, categorical_y\n",
    "```\n",
    "\n",
    "donde `to_categorical` convierte un vector de labels, en una matriz de clasificación binaria."
   ]
  },
  {
   "cell_type": "markdown",
   "id": "e5af28ac-8a7e-49fd-8a23-305ad3af99ef",
   "metadata": {
    "tags": []
   },
   "source": [
    "### Carga y configuración de datos\n",
    "\n",
    "#### Con `raw = True`"
   ]
  },
  {
   "cell_type": "code",
   "execution_count": 2,
   "id": "c9dd6021-fac6-4610-9d5c-c9d9d175422d",
   "metadata": {
    "tags": []
   },
   "outputs": [],
   "source": [
    "(x_train, y_train), (x_test, y_test), min_pixel_value, max_pixel_value = load_cifar10(raw = True)"
   ]
  },
  {
   "cell_type": "code",
   "execution_count": 3,
   "id": "6b441db3-8008-47d2-8f3d-5602466a9526",
   "metadata": {
    "tags": []
   },
   "outputs": [
    {
     "data": {
      "text/plain": [
       "array([6, 9, 9, ..., 9, 1, 1], dtype=uint8)"
      ]
     },
     "execution_count": 3,
     "metadata": {},
     "output_type": "execute_result"
    }
   ],
   "source": [
    "y_train"
   ]
  },
  {
   "cell_type": "code",
   "execution_count": 4,
   "id": "89a38700-55b7-4429-b560-6f767eb34d93",
   "metadata": {
    "tags": []
   },
   "outputs": [
    {
     "data": {
      "image/png": "[encoded data removed]",
      "text/plain": [
       "<Figure size 200x200 with 1 Axes>"
      ]
     },
     "metadata": {},
     "output_type": "display_data"
    }
   ],
   "source": [
    "fig, ax = plt.subplots(figsize=(2,2))\n",
    "ax.imshow(x_train[0])\n",
    "ax.set_title(f\"CIFAR label: {y_train[0]}\")\n",
    "plt.show()"
   ]
  },
  {
   "cell_type": "markdown",
   "id": "b771a5f1-d66c-4451-b013-7ec7c039745f",
   "metadata": {},
   "source": [
    "#### Con `raw = True`"
   ]
  },
  {
   "cell_type": "code",
   "execution_count": 5,
   "id": "a2e4bb49-5a55-4df6-8c5a-95d9813789bf",
   "metadata": {
    "tags": []
   },
   "outputs": [],
   "source": [
    "(x_train, y_train), (x_test, y_test), min_pixel_value, max_pixel_value = load_cifar10()"
   ]
  },
  {
   "cell_type": "code",
   "execution_count": 6,
   "id": "cc14912e-9642-4a9b-905e-24fd8623cc91",
   "metadata": {
    "tags": []
   },
   "outputs": [
    {
     "data": {
      "text/plain": [
       "array([[0., 0., 0., ..., 0., 0., 0.],\n",
       "       [0., 0., 0., ..., 0., 0., 1.],\n",
       "       [0., 0., 0., ..., 0., 0., 1.],\n",
       "       ...,\n",
       "       [0., 0., 0., ..., 0., 0., 1.],\n",
       "       [0., 1., 0., ..., 0., 0., 0.],\n",
       "       [0., 1., 0., ..., 0., 0., 0.]], dtype=float32)"
      ]
     },
     "execution_count": 6,
     "metadata": {},
     "output_type": "execute_result"
    }
   ],
   "source": [
    "y_train"
   ]
  },
  {
   "cell_type": "code",
   "execution_count": 7,
   "id": "d3f97386-7d0e-4fce-a804-75bed300af9a",
   "metadata": {
    "tags": []
   },
   "outputs": [
    {
     "data": {
      "image/png": "[encoded data removed]",
      "text/plain": [
       "<Figure size 200x200 with 1 Axes>"
      ]
     },
     "metadata": {},
     "output_type": "display_data"
    }
   ],
   "source": [
    "fig, ax = plt.subplots(figsize=(2,2))\n",
    "ax.imshow(x_train[0])\n",
    "ax.set_title(f\"CIFAR label: {list(y_train[0]).index(1)}\")\n",
    "plt.show()"
   ]
  },
  {
   "cell_type": "markdown",
   "id": "a90e211a-fcc2-4ae5-bb36-02d05b528f30",
   "metadata": {},
   "source": [
    "Por configuración de pytorch, se cambia el formato de los tensores con las imágenes. Pasamos de NHWC de numpy a NCHW de pytorch, donde\n",
    "\n",
    "* **N**: Cantidad de datos\n",
    "* **C**: Canales de color\n",
    "* **H**: Alto de la imagen\n",
    "* **W**: Ancho de la imagen\n",
    "\n",
    "*Para mayor información https://discuss.pytorch.org/t/why-does-pytorch-prefer-using-nchw/83637*"
   ]
  },
  {
   "cell_type": "code",
   "execution_count": 8,
   "id": "5edfe503-82f8-4acc-a36d-ba32771a87c6",
   "metadata": {
    "tags": []
   },
   "outputs": [],
   "source": [
    "x_train = np.transpose(x_train, (0, 3, 1, 2)).astype(np.float32)\n",
    "x_test = np.transpose(x_test, (0, 3, 1, 2)).astype(np.float32)"
   ]
  },
  {
   "cell_type": "markdown",
   "id": "d55e73c1-0c03-47ee-bd49-84ad12b4826d",
   "metadata": {},
   "source": [
    "## Entrenamiento del Modelo\n",
    "\n",
    "Para poder generar los ejemplos adversariales, es necesario tener un modelo entrenado, en este caso, una red neuronal convolucional.\n",
    "\n",
    "Primero definimos la arquitectura de la red, considerando el formato de las imágenes y la cantidad de labels:"
   ]
  },
  {
   "cell_type": "code",
   "execution_count": 9,
   "id": "82254eba-811c-44f3-b35f-950fec50fead",
   "metadata": {
    "tags": []
   },
   "outputs": [],
   "source": [
    "class Net(nn.Module):\n",
    "    def __init__(self):\n",
    "        super(Net, self).__init__()\n",
    "        self.conv1 = nn.Conv2d(3, 16, 3, padding=1)\n",
    "        self.pool = nn.MaxPool2d(2, 2)\n",
    "        self.conv2 = nn.Conv2d(16, 32, 3, padding=1)\n",
    "        self.fc1 = nn.Linear(32 * 8 * 8, 128)\n",
    "        self.fc2 = nn.Linear(128, 10)\n",
    "\n",
    "    def forward(self, x):\n",
    "        x = self.pool(F.relu(self.conv1(x)))\n",
    "        x = self.pool(F.relu(self.conv2(x)))\n",
    "        x = x.view(-1, 32 * 8 * 8)\n",
    "        x = F.relu(self.fc1(x))\n",
    "        x = self.fc2(x)\n",
    "        return x"
   ]
  },
  {
   "cell_type": "markdown",
   "id": "d55b88c4-14a8-4b24-97a1-d55678470653",
   "metadata": {},
   "source": [
    "Segundo, instanciamos el modelo, definimos la función de pérdida y el optimizador:"
   ]
  },
  {
   "cell_type": "code",
   "execution_count": 10,
   "id": "ee393a35-b220-4801-bf46-36f2cc0c5a53",
   "metadata": {},
   "outputs": [],
   "source": [
    "model = Net()\n",
    "criterion = nn.CrossEntropyLoss()\n",
    "optimizer = optim.Adam(model.parameters(), lr=0.01)"
   ]
  },
  {
   "cell_type": "markdown",
   "id": "b66dc103-8a1b-4769-b3ea-446e261b43be",
   "metadata": {},
   "source": [
    "Tercero, armamos el clasificador usando la clase `PyTorchClassifier` (ver [documentación](https://github.com/Trusted-AI/adversarial-robustness-toolbox/blob/main/art/estimators/classification/pytorch.py#L53))"
   ]
  },
  {
   "cell_type": "code",
   "execution_count": 11,
   "id": "8d36bc98-fbab-4d5b-9597-c2d1c3f5ce03",
   "metadata": {},
   "outputs": [],
   "source": [
    "classifier = PyTorchClassifier(\n",
    "    model=model,\n",
    "    clip_values=(min_pixel_value, max_pixel_value),\n",
    "    loss=criterion,\n",
    "    optimizer=optimizer,\n",
    "    input_shape=(3, 32, 32),\n",
    "    nb_classes=10,\n",
    ")"
   ]
  },
  {
   "cell_type": "markdown",
   "id": "b34a65cc-1309-4cad-9d42-c5da072f66e1",
   "metadata": {},
   "source": [
    "Cuarto, entrenamos y evaluamos el clasificador:"
   ]
  },
  {
   "cell_type": "code",
   "execution_count": 12,
   "id": "014675c6-5507-4617-a4ef-f69257ad30bc",
   "metadata": {
    "tags": []
   },
   "outputs": [
    {
     "name": "stdout",
     "output_type": "stream",
     "text": [
      "Accuracy on benign test examples: 51.25999999999999%\n",
      "CPU times: user 7min 27s, sys: 4min 56s, total: 12min 23s\n",
      "Wall time: 6min 13s\n"
     ]
    }
   ],
   "source": [
    "%%time\n",
    "classifier.fit(x_train, y_train, batch_size=32, nb_epochs=20)\n",
    "predictions = classifier.predict(x_test)\n",
    "accuracy = np.sum(np.argmax(predictions, axis=1) == np.argmax(y_test, axis=1)) / len(y_test)\n",
    "print(\"Accuracy on benign test examples: {}%\".format(accuracy * 100))"
   ]
  },
  {
   "cell_type": "markdown",
   "id": "bd9d5180-7732-46cc-8972-d4a19d06627c",
   "metadata": {},
   "source": [
    "## Generando los ataques\n",
    "\n",
    "Una vez entrenado el modelo, usamos el método `FastGradientMethod` para poder generar los ejemplos adversariales. En este caso se usa el método `FastGradientMethod`, sólo a modo de ejemplo. (Ver [documentación](https://github.com/Trusted-AI/adversarial-robustness-toolbox/blob/main/art/attacks/evasion/fast_gradient.py#L50C16-L50C16))"
   ]
  },
  {
   "cell_type": "code",
   "execution_count": 13,
   "id": "54e42c72-6519-43ae-b5fa-a821571814c0",
   "metadata": {
    "tags": []
   },
   "outputs": [],
   "source": [
    "attack = FastGradientMethod(estimator=classifier, eps=0.05)\n",
    "x_test_adv = attack.generate(x=x_test)"
   ]
  },
  {
   "cell_type": "markdown",
   "id": "2c13edbc-c6cc-4e7d-a265-a431f435fc78",
   "metadata": {},
   "source": [
    "### Visualizando los ataques"
   ]
  },
  {
   "cell_type": "code",
   "execution_count": 14,
   "id": "ef3a319f-b14e-46a3-b4bb-47fc4591dc94",
   "metadata": {
    "tags": []
   },
   "outputs": [
    {
     "data": {
      "image/png": "[encoded data removed]",
      "text/plain": [
       "<Figure size 200x500 with 2 Axes>"
      ]
     },
     "metadata": {},
     "output_type": "display_data"
    }
   ],
   "source": [
    "fig, ax = plt.subplots(2, 1, figsize=(2,5))\n",
    "ax[0].imshow(x_test[0].T)\n",
    "ax[0].set_title(f\"CIFAR label: {list(y_test[0]).index(1)}\")\n",
    "ax[1].imshow(x_test_adv[0].T)\n",
    "ax[1].set_title(\"Adversarial example:\")\n",
    "plt.show()"
   ]
  },
  {
   "cell_type": "markdown",
   "id": "77e7e505-be6f-4e74-9e86-693af94b93ac",
   "metadata": {},
   "source": [
    "Evaluamos el clasificador con los ejemplos adversariales:"
   ]
  },
  {
   "cell_type": "code",
   "execution_count": 15,
   "id": "deb30140-e6d6-4592-9e01-b060889e5bc9",
   "metadata": {
    "tags": []
   },
   "outputs": [
    {
     "name": "stdout",
     "output_type": "stream",
     "text": [
      "Accuracy on adversarial test examples: 19.06%\n"
     ]
    }
   ],
   "source": [
    "predictions = classifier.predict(x_test_adv)\n",
    "accuracy = np.sum(np.argmax(predictions, axis=1) == np.argmax(y_test, axis=1)) / len(y_test)\n",
    "print(\"Accuracy on adversarial test examples: {}%\".format(accuracy * 100))"
   ]
  }
 ],
 "metadata": {
  "kernelspec": {
   "display_name": "Python 3 (ipykernel)",
   "language": "python",
   "name": "python3"
  },
  "language_info": {
   "codemirror_mode": {
    "name": "ipython",
    "version": 3
   },
   "file_extension": ".py",
   "mimetype": "text/x-python",
   "name": "python",
   "nbconvert_exporter": "python",
   "pygments_lexer": "ipython3",
   "version": "3.10.12"
  }
 },
 "nbformat": 4,
 "nbformat_minor": 5
}
